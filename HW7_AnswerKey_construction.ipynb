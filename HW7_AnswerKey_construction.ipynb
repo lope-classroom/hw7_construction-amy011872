{
  "cells": [
    {
      "cell_type": "markdown",
      "source": [
        "# 題目 - Find the constructions !\n",
        "data：2022年PTT美食版共四個月的資料\n",
        "\n",
        "\n",
        "> 請在資料中找出下列5個two-slot-construction（2個變項)：\n",
        "\n",
        "1.   X + 的 + Y + 的\n",
        "2.   不 + X1 + 不 + X2\n",
        "3.   X + 了 + Y + 了\n",
        "4.   一 + q1 + 一 + q2\n",
        "5.   好 + v1 + 好 + v2\n",
        "\n",
        "需要特別留意的是，我們並非在尋找四字格，X, Y等這些變項都是word (not character)！\n",
        "\n",
        "\n",
        "\n",
        "---\n",
        "\n",
        "\n",
        "\n",
        "\n",
        "\n",
        "資料來源參考晴方學姊:\n",
        "[北大構式語料庫](http://ccl.pku.edu.cn/ccgd/)共收錄了113個簡體中文構式。\n",
        "晴方學姊以PTT 2020年整年的15個版去篩選（台灣繁體語用），其中共有25個構式有超過100筆，最後選出12個有多義的構式進行研究。\n",
        "[Demo App ](https://andreashih.shinyapps.io/cca-python1/?fbclid=IwAR1Ii3jl4rmfd4bEQNE3TqmIUw55ctqiO1mRdYLht-54MKgeVgHdgUvJhzo)\n",
        "\n",
        "\n",
        "\n",
        "\n",
        "\n",
        "\n",
        "\n"
      ],
      "metadata": {
        "id": "BeOjHfxcj-CJ"
      }
    },
    {
      "cell_type": "markdown",
      "source": [
        "##（1) 前處理（10%)\n",
        "\n",
        "資料格式為json檔，每一篇PTT貼文會有title跟content，其中content包含po文內容跟留言，都已經用換行符號斷句。\n",
        "\n",
        "請用上週的方式清理資料，並用ckip進行斷詞。"
      ],
      "metadata": {
        "id": "Z9TzyeeNbeuE"
      }
    },
    {
      "cell_type": "code",
      "source": [],
      "metadata": {
        "id": "E11xIXylj9ix"
      },
      "execution_count": null,
      "outputs": []
    },
    {
      "cell_type": "code",
      "execution_count": null,
      "metadata": {
        "colab": {
          "base_uri": "https://localhost:8080/"
        },
        "id": "xZdLPIUHAk30",
        "outputId": "a8c7d748-8472-43a2-b371-536399d1cfc6"
      },
      "outputs": [
        {
          "output_type": "stream",
          "name": "stdout",
          "text": [
            "Mounted at /content/gdrive\n"
          ]
        }
      ],
      "source": [
        "from google.colab import drive\n",
        "drive.mount('/content/gdrive',force_remount=True)"
      ]
    },
    {
      "cell_type": "code",
      "execution_count": null,
      "metadata": {
        "id": "tlAPh__zBPfk"
      },
      "outputs": [],
      "source": [
        "import json\n",
        "import re\n",
        "import pandas as pd\n",
        "from collections import Counter"
      ]
    },
    {
      "cell_type": "code",
      "execution_count": null,
      "metadata": {
        "id": "OWCqfSnvA1Ut"
      },
      "outputs": [],
      "source": [
        "with open('/content/gdrive/MyDrive/NTU GIL/CLLT ta/cllt2023/ppt_food_2022.json', 'r') as f:\n",
        "    data = json.load(f) "
      ]
    },
    {
      "cell_type": "code",
      "source": [
        "! pip3 install -U ckip-transformers\n",
        "from ckip_transformers.nlp import CkipWordSegmenter, CkipPosTagger"
      ],
      "metadata": {
        "id": "NC3ENZCbDmIV"
      },
      "execution_count": null,
      "outputs": []
    },
    {
      "cell_type": "code",
      "execution_count": null,
      "metadata": {
        "id": "a26yeVUUBZQx"
      },
      "outputs": [],
      "source": [
        "data[0]"
      ]
    },
    {
      "cell_type": "code",
      "execution_count": null,
      "metadata": {
        "id": "i1U20850BaVR",
        "colab": {
          "base_uri": "https://localhost:8080/"
        },
        "outputId": "59e353cd-e3fd-43c2-8714-aa6757e122a2"
      },
      "outputs": [
        {
          "output_type": "execute_result",
          "data": {
            "text/plain": [
              "114531"
            ]
          },
          "metadata": {},
          "execution_count": 20
        }
      ],
      "source": [
        "# 要清理掉的regex\n",
        "trash_regex = \"@\\S+|https?:\\S+|http?:\\S|[^\\u4E00-\\u9FD5]\"\n",
        "\n",
        "# title, content都取出並清理乾淨\n",
        "txt = []\n",
        "for data_x in data:\n",
        "  data_x['title'] = re.sub(trash_regex, '', data_x['title'])\n",
        "  txt.append(data_x['title'])\n",
        "\n",
        "  for con in data_x['content']:\n",
        "    con = re.sub(trash_regex, '', con)\n",
        "    txt.append(con)\n",
        "len(txt)"
      ]
    },
    {
      "cell_type": "code",
      "source": [
        "txt[:10]"
      ],
      "metadata": {
        "colab": {
          "base_uri": "https://localhost:8080/"
        },
        "id": "lLLNCKM9DkXZ",
        "outputId": "b3dfbfce-eca3-4bb4-e2d3-d1e16b333d7b"
      },
      "execution_count": null,
      "outputs": [
        {
          "output_type": "execute_result",
          "data": {
            "text/plain": [
              "['食記台南柳營露水雞鄉野小路間的美食',\n",
              " '餐廳名稱台南柳營露水雞',\n",
              " '消費時間年月',\n",
              " '地址台南市柳營區旭山里山子腳鄰之號縣道號處',\n",
              " '電話',\n",
              " '營業時間週一公休',\n",
              " '每人平均價位元左右',\n",
              " '可否刷卡否',\n",
              " '有無包廂無',\n",
              " '推薦菜色枸杞雞茄餅']"
            ]
          },
          "metadata": {},
          "execution_count": 33
        }
      ]
    },
    {
      "cell_type": "code",
      "source": [
        "# tokenize function\n",
        "## ws: [['A','B'],['a','b','c']]  \n",
        "## output:['A B', 'a b c']\n",
        "\n",
        "def tokenize(texts, ws_driver, batch_size=512, max_length=256):\n",
        "    output=[]\n",
        "    ws  = ws_driver(texts, use_delim=False, \n",
        "                batch_size = batch_size,\n",
        "                 max_length = max_length\n",
        "                )\n",
        "    output = [\" \".join(ls) for ls in ws]\n",
        "    return ws, output"
      ],
      "metadata": {
        "id": "T29r5kJdA_ll"
      },
      "execution_count": null,
      "outputs": []
    },
    {
      "cell_type": "code",
      "source": [
        "'''執行階段記得選GPU 不然會很久很久很久'''\n",
        "ws_driver = CkipWordSegmenter(device=0)\n",
        "ws, output = tokenize(txt, ws_driver)\n",
        "output[:10]"
      ],
      "metadata": {
        "colab": {
          "base_uri": "https://localhost:8080/",
          "height": 391,
          "referenced_widgets": [
            "79b8eef8079c41608d5d5b52ec01a530",
            "e1ad135f52744abaae96b3ebc2230858",
            "c80824cbe54e46639365ebf44997a595",
            "9c6c4d89afd944e5b1e222b576f0a53e",
            "da160529e6534a54858994e976380250",
            "921f50e789ed49d6ab90d3fe2b2f3744",
            "7b499844dbec4683b939725cfccea451",
            "9f831fa5d28c4039aadd7b134380101c",
            "735e7589c20041e39d130630c9f12c74",
            "05365069f47f4503b55dce307f19fa5b",
            "1a0da228e35241048c8e0743fea07ffb",
            "09502b32eceb49faa5a106f4f0b10c50",
            "c8efc73435e543ba8a11d0c126b34970",
            "aa37b9ca06a14d71866286ef10e9e54c",
            "c9b30b29352f45f2b2b02fc8b0bc0a7a",
            "3bc923d95c0f444c86f45bba91f99a58",
            "11f4601af4d5446ea1fbc1bca9777a09",
            "1c237c12cbd1452ebdd19500ea29e252",
            "27e1780fdf4e430dacab516dcbc75c7a",
            "e027792318b745e1ac820c7f06018704",
            "4b781c8c1e3c49a097611641dc0e7f71",
            "cee1fd434d6e42fe87b4dae0173d9aa7",
            "7a42aebe465046f890480c8fc07d66be",
            "bb87fb390f6c4999a1cc4a2a7a0c116e",
            "dca33ab866f54cfab232b0f50a26cd1f",
            "e960d077bf6441049290e5c22b30f3d9",
            "c48c45e720564677b2dc3f74d847d2e9",
            "a2da4062f12b4cf4bceb9b2a7e488419",
            "684e40689def4164a6e457e69fbc9997",
            "782a4b9fa3ca4a4fb086e3838c89d85b",
            "35568f2ff38247b8af1b3478b8939365",
            "90ca9ead3dfd44d6a8b8e14112e81410",
            "4e702b7edf274064aea0536da8e56e32",
            "d0b0b39ddfc3451b992b6e20c7e2f0a3",
            "593c9aa0474e41c0a53939f2ca23a07c",
            "2aeb5047bb42496ebe881b7c4add2cf8",
            "3a930c0634a4448697e5969b04dd3204",
            "545ed046c14a4bacbb48d9b1b63469f8",
            "f6f848acf6af4562a779397641edb7d8",
            "84d79ca701394dbf812ae6bcaf21c5a1",
            "230842b57d98426ca97eb10355a3334f",
            "381f9ffb96784b3c9d5a338a7ff5667e",
            "f161425a45944b45aa76604d409f2e7e",
            "d6f0a7d00ec541f18ffb3aeed498d1d7",
            "29de31fc1d7e485491d71a2081c11b3c",
            "bcb9e99ef9f84a20b5235f54a238ad1c",
            "1da6d14346be43eea30a5269c3bbf04f",
            "180cecd81e2e41fd885eaad333679842",
            "67ba1674af3644a7808750633df74515",
            "da52f6d2f2964f29b3737a73c2bb55c0",
            "d4c7ad97f84642168faae11a47d30c44",
            "7cacf840132c4542b85ee0a3913d53a7",
            "914792cf040a453d9af41669ab11fdbc",
            "91e9f45e303946b196fa3451e07d55ea",
            "cfc1d2a093b04c5a947f1dcb6a1ebcc4"
          ]
        },
        "id": "INFX9XYqBJXT",
        "outputId": "d5386690-8bc9-409c-b09a-6aa96083ea2a"
      },
      "execution_count": null,
      "outputs": [
        {
          "output_type": "display_data",
          "data": {
            "text/plain": [
              "Downloading (…)lve/main/config.json:   0%|          | 0.00/804 [00:00<?, ?B/s]"
            ],
            "application/vnd.jupyter.widget-view+json": {
              "version_major": 2,
              "version_minor": 0,
              "model_id": "79b8eef8079c41608d5d5b52ec01a530"
            }
          },
          "metadata": {}
        },
        {
          "output_type": "display_data",
          "data": {
            "text/plain": [
              "Downloading pytorch_model.bin:   0%|          | 0.00/407M [00:00<?, ?B/s]"
            ],
            "application/vnd.jupyter.widget-view+json": {
              "version_major": 2,
              "version_minor": 0,
              "model_id": "09502b32eceb49faa5a106f4f0b10c50"
            }
          },
          "metadata": {}
        },
        {
          "output_type": "display_data",
          "data": {
            "text/plain": [
              "Downloading (…)okenizer_config.json:   0%|          | 0.00/301 [00:00<?, ?B/s]"
            ],
            "application/vnd.jupyter.widget-view+json": {
              "version_major": 2,
              "version_minor": 0,
              "model_id": "7a42aebe465046f890480c8fc07d66be"
            }
          },
          "metadata": {}
        },
        {
          "output_type": "display_data",
          "data": {
            "text/plain": [
              "Downloading (…)solve/main/vocab.txt:   0%|          | 0.00/110k [00:00<?, ?B/s]"
            ],
            "application/vnd.jupyter.widget-view+json": {
              "version_major": 2,
              "version_minor": 0,
              "model_id": "d0b0b39ddfc3451b992b6e20c7e2f0a3"
            }
          },
          "metadata": {}
        },
        {
          "output_type": "display_data",
          "data": {
            "text/plain": [
              "Downloading (…)cial_tokens_map.json:   0%|          | 0.00/112 [00:00<?, ?B/s]"
            ],
            "application/vnd.jupyter.widget-view+json": {
              "version_major": 2,
              "version_minor": 0,
              "model_id": "29de31fc1d7e485491d71a2081c11b3c"
            }
          },
          "metadata": {}
        },
        {
          "output_type": "stream",
          "name": "stderr",
          "text": [
            "Tokenization: 100%|██████████| 114531/114531 [00:03<00:00, 34247.76it/s]\n",
            "Inference: 100%|██████████| 190/190 [14:21<00:00,  4.53s/it]\n"
          ]
        },
        {
          "output_type": "execute_result",
          "data": {
            "text/plain": [
              "['食記 台南 柳營 露水雞 鄉野 小路 間 的 美食',\n",
              " '餐廳 名稱 台南 柳營 露水雞',\n",
              " '消費 時間 年 月',\n",
              " '地址 台南市 柳營區 旭山里 山子腳鄰 之號 縣道號 處',\n",
              " '電話',\n",
              " '營業 時間 週一 公休',\n",
              " '每 人 平均 價位 元 左右',\n",
              " '可否 刷卡 否',\n",
              " '有無 包廂 無',\n",
              " '推薦 菜色 枸杞 雞 茄餅']"
            ]
          },
          "metadata": {},
          "execution_count": 22
        }
      ]
    },
    {
      "cell_type": "code",
      "source": [
        "import pickle\n",
        "\n",
        "with open('./tokenized.pickle', 'wb') as f:\n",
        "    pickle.dump(output, f)"
      ],
      "metadata": {
        "id": "CnQ3Ci1DJBs2"
      },
      "execution_count": null,
      "outputs": []
    },
    {
      "cell_type": "markdown",
      "source": [
        "## (2) 找出構式！(40%)\n",
        "\n",
        "\n",
        "整理出一個構式DataFrame，包含7個欄位：\n",
        "\n",
        "*   form: construction pattern\n",
        "*   cnstr: 資料中match到的構式（10%)\n",
        "*   cntxt: context，出現構式的那整個句子 (10%)\n",
        "*   var_1: 第一個變項 (5%)\n",
        "*   var_2: 第二個變項 (5%)\n",
        "*   var1_pos: 第一個變項的詞性 (5%)\n",
        "*   var2_pos: 第二個變項的詞性 (5%)\n",
        "\n",
        "請注意！\n",
        "詞性的篩選請至少以「資料中match到的構式」為單位，例如「吃 的 喝 的」要整組進行pos-tagging，再取出變項「吃」跟「喝」的詞性，不可以只有單獨tag「吃」跟「喝」。\n",
        "\n",
        "> ⚠️⚠️⚠️``print df[300:310]``⚠️⚠️⚠️"
      ],
      "metadata": {
        "id": "TpXRdDUucpvX"
      }
    },
    {
      "cell_type": "code",
      "source": [
        "# Match cnstr patterns in corpus\n",
        "def get_matched_segment(form, pat, content):\n",
        "\n",
        "  matcheds = {}\n",
        "  for j, k in zip(form, pat):\n",
        "    pattern = re.compile(k)\n",
        "    if k not in matcheds: matcheds[j] = []\n",
        "    \n",
        "    # Get all cnstr from all sentences\n",
        "    candidates, context = [], []\n",
        "    for sent in content:\n",
        "      for c in pattern.finditer(sent): \n",
        "        candidates.append(c[0])\n",
        "        context.append(sent)\n",
        "\n",
        "    for x in range(len(candidates)): \n",
        "      matcheds[j].append((candidates[x],context[x]))\n",
        "\n",
        "  return matcheds\n",
        "\n",
        "# Make cnstr_pos df\n",
        "def get_cnstr_df(matched, pos_driver):\n",
        "  keys = list(matched.keys())\n",
        "  values = list(matched.values())\n",
        "\n",
        "  # get variable indexes\n",
        "  var_idx = []\n",
        "  for k in keys:\n",
        "      split_k = k.split('+') \n",
        "      var = []\n",
        "      for idx, word in enumerate(split_k):\n",
        "        if (re.match(r'[a-zA-Z]', word)):\n",
        "          var.append(idx)\n",
        "      var_idx.append(var)\n",
        "\n",
        "  # add cnstr pos\n",
        "  dfs = []\n",
        "  for i in range(len(keys)):   \n",
        "      for (mat, cntxt) in values[i]:\n",
        "        split_m = mat.split(' ')\n",
        "        split_m = [m for m in split_m if m != '']\n",
        "        cnstr_pos = pos_driver([mat], use_delim=False, show_progress=False)\n",
        "        cnstr_pos = cnstr_pos[0]\n",
        "        cnstr_pos = [m for m in cnstr_pos if m != 'WHITESPACE']\n",
        "\n",
        "        dfs.append({\n",
        "              'form': keys[i], \n",
        "              'cnstr': mat,\n",
        "              'cntxt': cntxt,\n",
        "              'var1': split_m[var_idx[i][0]],\n",
        "              'var2': split_m[var_idx[i][1]],\n",
        "              'var1_pos': cnstr_pos[var_idx[i][0]],\n",
        "              'var2_pos': cnstr_pos[var_idx[i][1]]\n",
        "              })  \n",
        "\n",
        "  cnstr_df = pd.DataFrame(dfs)\n",
        "  \n",
        "  return cnstr_df"
      ],
      "metadata": {
        "id": "7Mzbm4vBIhM4"
      },
      "execution_count": null,
      "outputs": []
    },
    {
      "cell_type": "code",
      "source": [
        "cnstrs = [\n",
        "    [\"X\", \"+\", \"的\", \"+\", \"Y\", \"+\", \"的\"],\n",
        "    [\"不\", \"+\", \"X1\", \"+\", \"不\", \"+\", \"X2\"],\n",
        "    [\"g1\", \"+\", \"了\", \"+\", \"g2\", \"+\", \"了\"],\n",
        "    [\"好\", \"+\", \"v1\", \"+\", \"好\", \"+\", \"v2\"],\n",
        "    [\"一\", \"+\", \"q1\", \"+\", \"一\", \"+\", \"q2\"]\n",
        "]\n",
        "\n",
        "forms = [''.join(x) for x in cnstrs]\n",
        "forms"
      ],
      "metadata": {
        "colab": {
          "base_uri": "https://localhost:8080/"
        },
        "id": "2ZqH4D8xannr",
        "outputId": "02b7a0fb-225c-4338-90a1-b6da68ed3340"
      },
      "execution_count": null,
      "outputs": [
        {
          "output_type": "execute_result",
          "data": {
            "text/plain": [
              "['X+的+Y+的', '不+X1+不+X2', 'g1+了+g2+了', '好+v1+好+v2', '一+q1+一+q2']"
            ]
          },
          "metadata": {},
          "execution_count": 12
        }
      ]
    },
    {
      "cell_type": "code",
      "source": [
        "for cn in cnstrs:\n",
        "  for idx, item in enumerate(cn):\n",
        "    if re.match(r'[a-zA-Z]', item):\n",
        "      cn[idx] = \"\\w+\"\n",
        "\n",
        "for cnstr in cnstrs:\n",
        "  for cn in cnstr:\n",
        "    if cn == '+':\n",
        "      cnstr.remove(cn)\n",
        "\n",
        "forms_pat = ['\\s'.join(x) for x in cnstrs]\n",
        "forms_pat = ['(\\s'+ x +'\\s)' for x in forms_pat]\n",
        "#forms_pat = [re.sub('\\+', '', x) for x in forms_pat]\n",
        "forms_pat\n"
      ],
      "metadata": {
        "colab": {
          "base_uri": "https://localhost:8080/"
        },
        "id": "qJRvbP2Lc0qP",
        "outputId": "4671ac50-2ebc-4e5a-dba5-f789a213ebd0"
      },
      "execution_count": null,
      "outputs": [
        {
          "output_type": "execute_result",
          "data": {
            "text/plain": [
              "['(\\\\s\\\\w+\\\\s的\\\\s\\\\w+\\\\s的\\\\s)',\n",
              " '(\\\\s不\\\\s\\\\w+\\\\s不\\\\s\\\\w+\\\\s)',\n",
              " '(\\\\s\\\\w+\\\\s了\\\\s\\\\w+\\\\s了\\\\s)',\n",
              " '(\\\\s好\\\\s\\\\w+\\\\s好\\\\s\\\\w+\\\\s)',\n",
              " '(\\\\s一\\\\s\\\\w+\\\\s一\\\\s\\\\w+\\\\s)']"
            ]
          },
          "metadata": {},
          "execution_count": 14
        }
      ]
    },
    {
      "cell_type": "code",
      "source": [
        "matched = get_matched_segment(forms, forms_pat, output)\n",
        "matched"
      ],
      "metadata": {
        "id": "vvCZMLdXoPJI"
      },
      "execution_count": null,
      "outputs": []
    },
    {
      "cell_type": "code",
      "source": [
        "for k, v in matched.items():\n",
        "  print(f'{k}: {len(v)}')"
      ],
      "metadata": {
        "colab": {
          "base_uri": "https://localhost:8080/"
        },
        "id": "s63iiv5mN5k4",
        "outputId": "feb979ed-b860-4221-eeb1-1997f9bef6f4"
      },
      "execution_count": null,
      "outputs": [
        {
          "output_type": "stream",
          "name": "stdout",
          "text": [
            "X+的+Y+的: 258\n",
            "不+X1+不+X2: 47\n",
            "g1+了+g2+了: 17\n",
            "好+v1+好+v2: 27\n",
            "一+q1+一+q2: 145\n"
          ]
        }
      ]
    },
    {
      "cell_type": "code",
      "source": [
        "pos_driver = CkipPosTagger(device=0)\n",
        "\n",
        "cnstr_df = get_cnstr_df(matched, pos_driver)\n",
        "cnstr_df.head()"
      ],
      "metadata": {
        "colab": {
          "base_uri": "https://localhost:8080/",
          "height": 206
        },
        "id": "PIH2wxpxoZ-B",
        "outputId": "496d4cd3-4142-4da4-be2d-d732f7928b05"
      },
      "execution_count": null,
      "outputs": [
        {
          "output_type": "execute_result",
          "data": {
            "text/plain": [
              "      form        cnstr                                              cntxt  \\\n",
              "0  X+的+Y+的    下 的 阿將 的   位在 阿里山 山腳 下 的 阿將 的 家 咖啡館 是 一 位 鄒族 藝術家 阿將 花 了 多...   \n",
              "1  X+的+Y+的   喜歡 的 台南 的   不過 粉腸 我 倒是 挺 喜歡 的 台南 的 粉腸 並 不 是 豬小腸 而是 有點 類似 香...   \n",
              "2  X+的+Y+的    嫩 的 意外 的         香 也 頗 嫩 的 意外 的 是 還 有 不少 蛤蜊 雖 個頭 不 大 但是 頗 新鮮   \n",
              "3  X+的+Y+的    大 的 蝦醬 的   蝦醬 空心菜 也 是 相當 經典 的 泰國 菜 份量 滿 大 的 蝦醬 的 味道 很 不錯 ...   \n",
              "4  X+的+Y+的   奶油 的 熱熱 的   中間 夾有 冰 奶油 的 熱熱 的 菠蘿油 可以 的話 真的 是 要 熱騰騰 的 吃 才 是...   \n",
              "\n",
              "  var1 var2 var1_pos var2_pos  \n",
              "0    下   阿將       Ng       Nc  \n",
              "1   喜歡   台南       VK       DE  \n",
              "2    嫩   意外       VH       VK  \n",
              "3    大   蝦醬       VH       Na  \n",
              "4   奶油   熱熱       Na       DE  "
            ],
            "text/html": [
              "\n",
              "  <div id=\"df-c97d9493-c29a-40ee-8bba-5f192af6fe32\">\n",
              "    <div class=\"colab-df-container\">\n",
              "      <div>\n",
              "<style scoped>\n",
              "    .dataframe tbody tr th:only-of-type {\n",
              "        vertical-align: middle;\n",
              "    }\n",
              "\n",
              "    .dataframe tbody tr th {\n",
              "        vertical-align: top;\n",
              "    }\n",
              "\n",
              "    .dataframe thead th {\n",
              "        text-align: right;\n",
              "    }\n",
              "</style>\n",
              "<table border=\"1\" class=\"dataframe\">\n",
              "  <thead>\n",
              "    <tr style=\"text-align: right;\">\n",
              "      <th></th>\n",
              "      <th>form</th>\n",
              "      <th>cnstr</th>\n",
              "      <th>cntxt</th>\n",
              "      <th>var1</th>\n",
              "      <th>var2</th>\n",
              "      <th>var1_pos</th>\n",
              "      <th>var2_pos</th>\n",
              "    </tr>\n",
              "  </thead>\n",
              "  <tbody>\n",
              "    <tr>\n",
              "      <th>0</th>\n",
              "      <td>X+的+Y+的</td>\n",
              "      <td>下 的 阿將 的</td>\n",
              "      <td>位在 阿里山 山腳 下 的 阿將 的 家 咖啡館 是 一 位 鄒族 藝術家 阿將 花 了 多...</td>\n",
              "      <td>下</td>\n",
              "      <td>阿將</td>\n",
              "      <td>Ng</td>\n",
              "      <td>Nc</td>\n",
              "    </tr>\n",
              "    <tr>\n",
              "      <th>1</th>\n",
              "      <td>X+的+Y+的</td>\n",
              "      <td>喜歡 的 台南 的</td>\n",
              "      <td>不過 粉腸 我 倒是 挺 喜歡 的 台南 的 粉腸 並 不 是 豬小腸 而是 有點 類似 香...</td>\n",
              "      <td>喜歡</td>\n",
              "      <td>台南</td>\n",
              "      <td>VK</td>\n",
              "      <td>DE</td>\n",
              "    </tr>\n",
              "    <tr>\n",
              "      <th>2</th>\n",
              "      <td>X+的+Y+的</td>\n",
              "      <td>嫩 的 意外 的</td>\n",
              "      <td>香 也 頗 嫩 的 意外 的 是 還 有 不少 蛤蜊 雖 個頭 不 大 但是 頗 新鮮</td>\n",
              "      <td>嫩</td>\n",
              "      <td>意外</td>\n",
              "      <td>VH</td>\n",
              "      <td>VK</td>\n",
              "    </tr>\n",
              "    <tr>\n",
              "      <th>3</th>\n",
              "      <td>X+的+Y+的</td>\n",
              "      <td>大 的 蝦醬 的</td>\n",
              "      <td>蝦醬 空心菜 也 是 相當 經典 的 泰國 菜 份量 滿 大 的 蝦醬 的 味道 很 不錯 ...</td>\n",
              "      <td>大</td>\n",
              "      <td>蝦醬</td>\n",
              "      <td>VH</td>\n",
              "      <td>Na</td>\n",
              "    </tr>\n",
              "    <tr>\n",
              "      <th>4</th>\n",
              "      <td>X+的+Y+的</td>\n",
              "      <td>奶油 的 熱熱 的</td>\n",
              "      <td>中間 夾有 冰 奶油 的 熱熱 的 菠蘿油 可以 的話 真的 是 要 熱騰騰 的 吃 才 是...</td>\n",
              "      <td>奶油</td>\n",
              "      <td>熱熱</td>\n",
              "      <td>Na</td>\n",
              "      <td>DE</td>\n",
              "    </tr>\n",
              "  </tbody>\n",
              "</table>\n",
              "</div>\n",
              "      <button class=\"colab-df-convert\" onclick=\"convertToInteractive('df-c97d9493-c29a-40ee-8bba-5f192af6fe32')\"\n",
              "              title=\"Convert this dataframe to an interactive table.\"\n",
              "              style=\"display:none;\">\n",
              "        \n",
              "  <svg xmlns=\"http://www.w3.org/2000/svg\" height=\"24px\"viewBox=\"0 0 24 24\"\n",
              "       width=\"24px\">\n",
              "    <path d=\"M0 0h24v24H0V0z\" fill=\"none\"/>\n",
              "    <path d=\"M18.56 5.44l.94 2.06.94-2.06 2.06-.94-2.06-.94-.94-2.06-.94 2.06-2.06.94zm-11 1L8.5 8.5l.94-2.06 2.06-.94-2.06-.94L8.5 2.5l-.94 2.06-2.06.94zm10 10l.94 2.06.94-2.06 2.06-.94-2.06-.94-.94-2.06-.94 2.06-2.06.94z\"/><path d=\"M17.41 7.96l-1.37-1.37c-.4-.4-.92-.59-1.43-.59-.52 0-1.04.2-1.43.59L10.3 9.45l-7.72 7.72c-.78.78-.78 2.05 0 2.83L4 21.41c.39.39.9.59 1.41.59.51 0 1.02-.2 1.41-.59l7.78-7.78 2.81-2.81c.8-.78.8-2.07 0-2.86zM5.41 20L4 18.59l7.72-7.72 1.47 1.35L5.41 20z\"/>\n",
              "  </svg>\n",
              "      </button>\n",
              "      \n",
              "  <style>\n",
              "    .colab-df-container {\n",
              "      display:flex;\n",
              "      flex-wrap:wrap;\n",
              "      gap: 12px;\n",
              "    }\n",
              "\n",
              "    .colab-df-convert {\n",
              "      background-color: #E8F0FE;\n",
              "      border: none;\n",
              "      border-radius: 50%;\n",
              "      cursor: pointer;\n",
              "      display: none;\n",
              "      fill: #1967D2;\n",
              "      height: 32px;\n",
              "      padding: 0 0 0 0;\n",
              "      width: 32px;\n",
              "    }\n",
              "\n",
              "    .colab-df-convert:hover {\n",
              "      background-color: #E2EBFA;\n",
              "      box-shadow: 0px 1px 2px rgba(60, 64, 67, 0.3), 0px 1px 3px 1px rgba(60, 64, 67, 0.15);\n",
              "      fill: #174EA6;\n",
              "    }\n",
              "\n",
              "    [theme=dark] .colab-df-convert {\n",
              "      background-color: #3B4455;\n",
              "      fill: #D2E3FC;\n",
              "    }\n",
              "\n",
              "    [theme=dark] .colab-df-convert:hover {\n",
              "      background-color: #434B5C;\n",
              "      box-shadow: 0px 1px 3px 1px rgba(0, 0, 0, 0.15);\n",
              "      filter: drop-shadow(0px 1px 2px rgba(0, 0, 0, 0.3));\n",
              "      fill: #FFFFFF;\n",
              "    }\n",
              "  </style>\n",
              "\n",
              "      <script>\n",
              "        const buttonEl =\n",
              "          document.querySelector('#df-c97d9493-c29a-40ee-8bba-5f192af6fe32 button.colab-df-convert');\n",
              "        buttonEl.style.display =\n",
              "          google.colab.kernel.accessAllowed ? 'block' : 'none';\n",
              "\n",
              "        async function convertToInteractive(key) {\n",
              "          const element = document.querySelector('#df-c97d9493-c29a-40ee-8bba-5f192af6fe32');\n",
              "          const dataTable =\n",
              "            await google.colab.kernel.invokeFunction('convertToInteractive',\n",
              "                                                     [key], {});\n",
              "          if (!dataTable) return;\n",
              "\n",
              "          const docLinkHtml = 'Like what you see? Visit the ' +\n",
              "            '<a target=\"_blank\" href=https://colab.research.google.com/notebooks/data_table.ipynb>data table notebook</a>'\n",
              "            + ' to learn more about interactive tables.';\n",
              "          element.innerHTML = '';\n",
              "          dataTable['output_type'] = 'display_data';\n",
              "          await google.colab.output.renderOutput(dataTable, element);\n",
              "          const docLink = document.createElement('div');\n",
              "          docLink.innerHTML = docLinkHtml;\n",
              "          element.appendChild(docLink);\n",
              "        }\n",
              "      </script>\n",
              "    </div>\n",
              "  </div>\n",
              "  "
            ]
          },
          "metadata": {},
          "execution_count": 25
        }
      ]
    },
    {
      "cell_type": "code",
      "source": [
        "cnstr_df.shape"
      ],
      "metadata": {
        "colab": {
          "base_uri": "https://localhost:8080/"
        },
        "id": "wskggpkcoguW",
        "outputId": "157cf512-d910-404c-c996-cdb2062ae827"
      },
      "execution_count": null,
      "outputs": [
        {
          "output_type": "execute_result",
          "data": {
            "text/plain": [
              "(494, 7)"
            ]
          },
          "metadata": {},
          "execution_count": 26
        }
      ]
    },
    {
      "cell_type": "code",
      "source": [
        "cnstr_df[300:310]"
      ],
      "metadata": {
        "colab": {
          "base_uri": "https://localhost:8080/",
          "height": 363
        },
        "id": "DDfFxA3SomQf",
        "outputId": "498e8c77-e5a9-47ed-b957-0be4d852b6a6"
      },
      "execution_count": null,
      "outputs": [
        {
          "output_type": "execute_result",
          "data": {
            "text/plain": [
              "          form       cnstr                                              cntxt  \\\n",
              "300  不+X1+不+X2    不 油 不 膩                  但是 味道 適中 不 油 不 膩 算是 可以 吃 很多 碗 的 類型   \n",
              "301  不+X1+不+X2    不 油 不 膩             食記 台東 池上 好 煎炸 創意 巨大 炸 春捲 不 油 不 膩 更 顯 清爽   \n",
              "302  不+X1+不+X2   不 吃 不 知道              奶酥堡 他 是 寫 熟客 必 點 拉 不 吃 不 知道 一 吃 嚇一跳 超棒   \n",
              "303  不+X1+不+X2   不 吃 不 知道   高麗菜 蛋餅 又 一 個 不 吃 不 知道 吃到 嚇一跳 高麗菜 好 鮮甜 吃 了 幾 次 ...   \n",
              "304  不+X1+不+X2    不 鹹 不 油         為 沒有 什麼 鹹味 可能 適合 歲 的 老 杯杯 吃 不 鹹 不 油 一定 很 養生   \n",
              "305  g1+了+g2+了    棚 了 到 了                這 就 滿 普通 的 然後 洋芋 貌似 跑 錯 棚 了 到 了 羊排 這   \n",
              "306  g1+了+g2+了   甜味 了 咬 了   這時 只 差 甜味 了 咬 了 一 口 鰻魚 後 炙燒 後 的 表皮 因為 黑糖 而 更 酥...   \n",
              "307  g1+了+g2+了   吃 了 不少 了   下車 的 地方 是 新潟 的 巴士 中心 也 就 是 巴士 總站 本 以為 早餐 已經 吃 ...   \n",
              "308  g1+了+g2+了   好吃 了 加 了   椰菜醬 吃起來 會 有 一點點 淡淡 咖哩 的 錯覺 不用 加 醬 就 很 好吃 了 加 了...   \n",
              "309  g1+了+g2+了   精瘦 了 放 了   嘉義 黃牛 菲力 威靈頓 台灣 牛 的 菲力 肉質 又 更 精瘦 了 放 了 少許 肥 肝 ...   \n",
              "\n",
              "    var1 var2 var1_pos var2_pos  \n",
              "300    油    膩       Na       VH  \n",
              "301    油    膩       Na       VH  \n",
              "302    吃   知道       VC       VK  \n",
              "303    吃   知道       VC       VK  \n",
              "304    鹹    油       VH       Na  \n",
              "305    棚    到       Na      Caa  \n",
              "306   甜味    咬       Na       Di  \n",
              "307    吃   不少       VC     Neqa  \n",
              "308   好吃    加       VH       Di  \n",
              "309   精瘦    放       VH       Di  "
            ],
            "text/html": [
              "\n",
              "  <div id=\"df-6144f22e-061a-41db-82ed-3624e4fb5635\">\n",
              "    <div class=\"colab-df-container\">\n",
              "      <div>\n",
              "<style scoped>\n",
              "    .dataframe tbody tr th:only-of-type {\n",
              "        vertical-align: middle;\n",
              "    }\n",
              "\n",
              "    .dataframe tbody tr th {\n",
              "        vertical-align: top;\n",
              "    }\n",
              "\n",
              "    .dataframe thead th {\n",
              "        text-align: right;\n",
              "    }\n",
              "</style>\n",
              "<table border=\"1\" class=\"dataframe\">\n",
              "  <thead>\n",
              "    <tr style=\"text-align: right;\">\n",
              "      <th></th>\n",
              "      <th>form</th>\n",
              "      <th>cnstr</th>\n",
              "      <th>cntxt</th>\n",
              "      <th>var1</th>\n",
              "      <th>var2</th>\n",
              "      <th>var1_pos</th>\n",
              "      <th>var2_pos</th>\n",
              "    </tr>\n",
              "  </thead>\n",
              "  <tbody>\n",
              "    <tr>\n",
              "      <th>300</th>\n",
              "      <td>不+X1+不+X2</td>\n",
              "      <td>不 油 不 膩</td>\n",
              "      <td>但是 味道 適中 不 油 不 膩 算是 可以 吃 很多 碗 的 類型</td>\n",
              "      <td>油</td>\n",
              "      <td>膩</td>\n",
              "      <td>Na</td>\n",
              "      <td>VH</td>\n",
              "    </tr>\n",
              "    <tr>\n",
              "      <th>301</th>\n",
              "      <td>不+X1+不+X2</td>\n",
              "      <td>不 油 不 膩</td>\n",
              "      <td>食記 台東 池上 好 煎炸 創意 巨大 炸 春捲 不 油 不 膩 更 顯 清爽</td>\n",
              "      <td>油</td>\n",
              "      <td>膩</td>\n",
              "      <td>Na</td>\n",
              "      <td>VH</td>\n",
              "    </tr>\n",
              "    <tr>\n",
              "      <th>302</th>\n",
              "      <td>不+X1+不+X2</td>\n",
              "      <td>不 吃 不 知道</td>\n",
              "      <td>奶酥堡 他 是 寫 熟客 必 點 拉 不 吃 不 知道 一 吃 嚇一跳 超棒</td>\n",
              "      <td>吃</td>\n",
              "      <td>知道</td>\n",
              "      <td>VC</td>\n",
              "      <td>VK</td>\n",
              "    </tr>\n",
              "    <tr>\n",
              "      <th>303</th>\n",
              "      <td>不+X1+不+X2</td>\n",
              "      <td>不 吃 不 知道</td>\n",
              "      <td>高麗菜 蛋餅 又 一 個 不 吃 不 知道 吃到 嚇一跳 高麗菜 好 鮮甜 吃 了 幾 次 ...</td>\n",
              "      <td>吃</td>\n",
              "      <td>知道</td>\n",
              "      <td>VC</td>\n",
              "      <td>VK</td>\n",
              "    </tr>\n",
              "    <tr>\n",
              "      <th>304</th>\n",
              "      <td>不+X1+不+X2</td>\n",
              "      <td>不 鹹 不 油</td>\n",
              "      <td>為 沒有 什麼 鹹味 可能 適合 歲 的 老 杯杯 吃 不 鹹 不 油 一定 很 養生</td>\n",
              "      <td>鹹</td>\n",
              "      <td>油</td>\n",
              "      <td>VH</td>\n",
              "      <td>Na</td>\n",
              "    </tr>\n",
              "    <tr>\n",
              "      <th>305</th>\n",
              "      <td>g1+了+g2+了</td>\n",
              "      <td>棚 了 到 了</td>\n",
              "      <td>這 就 滿 普通 的 然後 洋芋 貌似 跑 錯 棚 了 到 了 羊排 這</td>\n",
              "      <td>棚</td>\n",
              "      <td>到</td>\n",
              "      <td>Na</td>\n",
              "      <td>Caa</td>\n",
              "    </tr>\n",
              "    <tr>\n",
              "      <th>306</th>\n",
              "      <td>g1+了+g2+了</td>\n",
              "      <td>甜味 了 咬 了</td>\n",
              "      <td>這時 只 差 甜味 了 咬 了 一 口 鰻魚 後 炙燒 後 的 表皮 因為 黑糖 而 更 酥...</td>\n",
              "      <td>甜味</td>\n",
              "      <td>咬</td>\n",
              "      <td>Na</td>\n",
              "      <td>Di</td>\n",
              "    </tr>\n",
              "    <tr>\n",
              "      <th>307</th>\n",
              "      <td>g1+了+g2+了</td>\n",
              "      <td>吃 了 不少 了</td>\n",
              "      <td>下車 的 地方 是 新潟 的 巴士 中心 也 就 是 巴士 總站 本 以為 早餐 已經 吃 ...</td>\n",
              "      <td>吃</td>\n",
              "      <td>不少</td>\n",
              "      <td>VC</td>\n",
              "      <td>Neqa</td>\n",
              "    </tr>\n",
              "    <tr>\n",
              "      <th>308</th>\n",
              "      <td>g1+了+g2+了</td>\n",
              "      <td>好吃 了 加 了</td>\n",
              "      <td>椰菜醬 吃起來 會 有 一點點 淡淡 咖哩 的 錯覺 不用 加 醬 就 很 好吃 了 加 了...</td>\n",
              "      <td>好吃</td>\n",
              "      <td>加</td>\n",
              "      <td>VH</td>\n",
              "      <td>Di</td>\n",
              "    </tr>\n",
              "    <tr>\n",
              "      <th>309</th>\n",
              "      <td>g1+了+g2+了</td>\n",
              "      <td>精瘦 了 放 了</td>\n",
              "      <td>嘉義 黃牛 菲力 威靈頓 台灣 牛 的 菲力 肉質 又 更 精瘦 了 放 了 少許 肥 肝 ...</td>\n",
              "      <td>精瘦</td>\n",
              "      <td>放</td>\n",
              "      <td>VH</td>\n",
              "      <td>Di</td>\n",
              "    </tr>\n",
              "  </tbody>\n",
              "</table>\n",
              "</div>\n",
              "      <button class=\"colab-df-convert\" onclick=\"convertToInteractive('df-6144f22e-061a-41db-82ed-3624e4fb5635')\"\n",
              "              title=\"Convert this dataframe to an interactive table.\"\n",
              "              style=\"display:none;\">\n",
              "        \n",
              "  <svg xmlns=\"http://www.w3.org/2000/svg\" height=\"24px\"viewBox=\"0 0 24 24\"\n",
              "       width=\"24px\">\n",
              "    <path d=\"M0 0h24v24H0V0z\" fill=\"none\"/>\n",
              "    <path d=\"M18.56 5.44l.94 2.06.94-2.06 2.06-.94-2.06-.94-.94-2.06-.94 2.06-2.06.94zm-11 1L8.5 8.5l.94-2.06 2.06-.94-2.06-.94L8.5 2.5l-.94 2.06-2.06.94zm10 10l.94 2.06.94-2.06 2.06-.94-2.06-.94-.94-2.06-.94 2.06-2.06.94z\"/><path d=\"M17.41 7.96l-1.37-1.37c-.4-.4-.92-.59-1.43-.59-.52 0-1.04.2-1.43.59L10.3 9.45l-7.72 7.72c-.78.78-.78 2.05 0 2.83L4 21.41c.39.39.9.59 1.41.59.51 0 1.02-.2 1.41-.59l7.78-7.78 2.81-2.81c.8-.78.8-2.07 0-2.86zM5.41 20L4 18.59l7.72-7.72 1.47 1.35L5.41 20z\"/>\n",
              "  </svg>\n",
              "      </button>\n",
              "      \n",
              "  <style>\n",
              "    .colab-df-container {\n",
              "      display:flex;\n",
              "      flex-wrap:wrap;\n",
              "      gap: 12px;\n",
              "    }\n",
              "\n",
              "    .colab-df-convert {\n",
              "      background-color: #E8F0FE;\n",
              "      border: none;\n",
              "      border-radius: 50%;\n",
              "      cursor: pointer;\n",
              "      display: none;\n",
              "      fill: #1967D2;\n",
              "      height: 32px;\n",
              "      padding: 0 0 0 0;\n",
              "      width: 32px;\n",
              "    }\n",
              "\n",
              "    .colab-df-convert:hover {\n",
              "      background-color: #E2EBFA;\n",
              "      box-shadow: 0px 1px 2px rgba(60, 64, 67, 0.3), 0px 1px 3px 1px rgba(60, 64, 67, 0.15);\n",
              "      fill: #174EA6;\n",
              "    }\n",
              "\n",
              "    [theme=dark] .colab-df-convert {\n",
              "      background-color: #3B4455;\n",
              "      fill: #D2E3FC;\n",
              "    }\n",
              "\n",
              "    [theme=dark] .colab-df-convert:hover {\n",
              "      background-color: #434B5C;\n",
              "      box-shadow: 0px 1px 3px 1px rgba(0, 0, 0, 0.15);\n",
              "      filter: drop-shadow(0px 1px 2px rgba(0, 0, 0, 0.3));\n",
              "      fill: #FFFFFF;\n",
              "    }\n",
              "  </style>\n",
              "\n",
              "      <script>\n",
              "        const buttonEl =\n",
              "          document.querySelector('#df-6144f22e-061a-41db-82ed-3624e4fb5635 button.colab-df-convert');\n",
              "        buttonEl.style.display =\n",
              "          google.colab.kernel.accessAllowed ? 'block' : 'none';\n",
              "\n",
              "        async function convertToInteractive(key) {\n",
              "          const element = document.querySelector('#df-6144f22e-061a-41db-82ed-3624e4fb5635');\n",
              "          const dataTable =\n",
              "            await google.colab.kernel.invokeFunction('convertToInteractive',\n",
              "                                                     [key], {});\n",
              "          if (!dataTable) return;\n",
              "\n",
              "          const docLinkHtml = 'Like what you see? Visit the ' +\n",
              "            '<a target=\"_blank\" href=https://colab.research.google.com/notebooks/data_table.ipynb>data table notebook</a>'\n",
              "            + ' to learn more about interactive tables.';\n",
              "          element.innerHTML = '';\n",
              "          dataTable['output_type'] = 'display_data';\n",
              "          await google.colab.output.renderOutput(dataTable, element);\n",
              "          const docLink = document.createElement('div');\n",
              "          docLink.innerHTML = docLinkHtml;\n",
              "          element.appendChild(docLink);\n",
              "        }\n",
              "      </script>\n",
              "    </div>\n",
              "  </div>\n",
              "  "
            ]
          },
          "metadata": {},
          "execution_count": 27
        }
      ]
    },
    {
      "cell_type": "markdown",
      "source": [
        "#### 先看一下篩選前的結果（作業沒有這部分）"
      ],
      "metadata": {
        "id": "ovFDV5Q2rD6U"
      }
    },
    {
      "cell_type": "code",
      "source": [
        "form_c = list(set(cnstr_df.form.to_list()))\n",
        "\n",
        "stats_c = cnstr_df.groupby('form')['cnstr'].value_counts()\n",
        "for k in form_c:\n",
        "  print(f'{k}: {stats_c[k].sum()}')"
      ],
      "metadata": {
        "colab": {
          "base_uri": "https://localhost:8080/"
        },
        "id": "2UzykYTXG2zy",
        "outputId": "0325c248-571c-4058-fc63-e804e6551501"
      },
      "execution_count": null,
      "outputs": [
        {
          "output_type": "stream",
          "name": "stdout",
          "text": [
            "g1+了+g2+了: 17\n",
            "好+v1+好+v2: 27\n",
            "一+q1+一+q2: 145\n",
            "不+X1+不+X2: 47\n",
            "X+的+Y+的: 258\n"
          ]
        }
      ]
    },
    {
      "cell_type": "code",
      "source": [
        "stats_c['一+q1+一+q2']"
      ],
      "metadata": {
        "colab": {
          "base_uri": "https://localhost:8080/"
        },
        "id": "B8JC6QcHHEjZ",
        "outputId": "a60ffb75-870d-4ac9-be78-da99f7c77779"
      },
      "execution_count": null,
      "outputs": [
        {
          "output_type": "execute_result",
          "data": {
            "text/plain": [
              "cnstr\n",
              " 一 顆 一 顆     8\n",
              " 一 個 一 個     7\n",
              " 一 期 一 會     7\n",
              " 一 層 一 層     6\n",
              " 一 口 一 口     4\n",
              "            ..\n",
              " 一 鍋 一 燒     1\n",
              " 一 間 一 間     1\n",
              " 一 陣 一 陣     1\n",
              " 一 隻 一 歲     1\n",
              " 一 面 一 面     1\n",
              "Name: cnstr, Length: 88, dtype: int64"
            ]
          },
          "metadata": {},
          "execution_count": 30
        }
      ]
    },
    {
      "cell_type": "code",
      "source": [
        "stats_c['不+X1+不+X2']"
      ],
      "metadata": {
        "colab": {
          "base_uri": "https://localhost:8080/"
        },
        "id": "b2oSvU8iG_yF",
        "outputId": "ed5d37fd-fec0-4b6c-c4ea-2bdfcb33eeca"
      },
      "execution_count": null,
      "outputs": [
        {
          "output_type": "execute_result",
          "data": {
            "text/plain": [
              "cnstr\n",
              " 不 油 不 膩       9\n",
              " 不 甜 不 膩       3\n",
              " 不 吃 不 知道      2\n",
              " 不 肥 不 膩       2\n",
              " 不 苦 不 澀       2\n",
              " 不 一樣 不 太      1\n",
              " 不 一樣 不 知道     1\n",
              " 不 不 不 前面      1\n",
              " 不 到 不 是       1\n",
              " 不 多 不 代表      1\n",
              " 不 多 不 清楚      1\n",
              " 不 大 不 到       1\n",
              " 不 太 不 習慣      1\n",
              " 不 好 不 壞       1\n",
              " 不 好吃 不 要      1\n",
              " 不 快 不 慢       1\n",
              " 不 是 不 好吃      1\n",
              " 不 是 不 知       1\n",
              " 不 熟 不 一樣      1\n",
              " 不 燥熱 不 是      1\n",
              " 不 肥 不 瘦       1\n",
              " 不 腥 不 臊       1\n",
              " 不 規則 不 對稱     1\n",
              " 不 賺 不 賠       1\n",
              " 不 辣 不 吃       1\n",
              " 不 辣 不 太       1\n",
              " 不 辣 不 甜       1\n",
              " 不 辣 不 酸       1\n",
              " 不 重 不 喜歡      1\n",
              " 不 難吃 不 吃      1\n",
              " 不 馬虎 不 是      1\n",
              " 不 高 不 敢       1\n",
              " 不 鹹 不 油       1\n",
              " 不 黏 不 膩       1\n",
              "Name: cnstr, dtype: int64"
            ]
          },
          "metadata": {},
          "execution_count": 31
        }
      ]
    },
    {
      "cell_type": "markdown",
      "source": [
        "## (3) 篩選詞性，計算frequency（20%)\n",
        "\n",
        "> 詞性的篩選要根據代號：\n",
        "1.   cnstr_1 = X + 的 + Y + 的\n",
        "2.   cnstr_2 = 不 + X1 + 不 + X2\n",
        "3.   cnstr_3 = X + 了 + Y + 了\n",
        "4.   cnstr_4 = 一 + q1 + 一 + q2\n",
        "5.   cnstr_5 = 好 + v1 + 好 + v2\n",
        "\n",
        "\n",
        "\n",
        "*    X, Y: 不限詞性且兩個常項可以是不同詞性\n",
        "*    X1, X2: 不限詞性但兩個常項必須為同一詞性\n",
        "*    v1, v2: 兩個常項都必須為動詞（V[A-Z]）\n",
        "*    q1, q2: 兩個常項都必須為量詞（Nf)\n",
        "\n",
        "透過詞性將不符合的row排除後，計算出 **每個構式總計出現的次數 (10%)** 以及 **出現次數最多的前10名 (10%)** 。"
      ],
      "metadata": {
        "id": "rJcUuygeiaSd"
      }
    },
    {
      "cell_type": "code",
      "source": [
        "cnstr_pos_df = cnstr_df.copy()\n",
        "for idx, row in cnstr_pos_df.iterrows():\n",
        "    # v1, v2\n",
        "    if re.findall('v\\d', row['form']):\n",
        "      if not (re.findall('V[A-Z]+', row['var1_pos']) and re.findall('V[A-Z]+', row['var2_pos'])):\n",
        "        cnstr_pos_df.drop(idx, inplace=True)\n",
        "\n",
        "    # q1, q2 (try Nf or N[a-z])\n",
        "    elif re.findall('q\\d', row['form']):\n",
        "      if not ((row['var1_pos'] == 'Nf') and (row['var2_pos'] == 'Nf')):\n",
        "        cnstr_pos_df.drop(idx, inplace=True)\n",
        "    \n",
        "    # X1, X2\n",
        "    elif re.findall('X\\d', row['form']):\n",
        "      if row['var1_pos'][0] != row['var2_pos'][0]:\n",
        "        cnstr_pos_df.drop(idx, inplace=True)\n",
        "\n",
        "cnstr_pos_df.head()"
      ],
      "metadata": {
        "colab": {
          "base_uri": "https://localhost:8080/",
          "height": 206
        },
        "id": "5mqBLQ66BVe6",
        "outputId": "b52957db-e7d4-4c28-b3fa-6b3d1c9436e4"
      },
      "execution_count": null,
      "outputs": [
        {
          "output_type": "execute_result",
          "data": {
            "text/plain": [
              "      form        cnstr                                              cntxt  \\\n",
              "0  X+的+Y+的    下 的 阿將 的   位在 阿里山 山腳 下 的 阿將 的 家 咖啡館 是 一 位 鄒族 藝術家 阿將 花 了 多...   \n",
              "1  X+的+Y+的   喜歡 的 台南 的   不過 粉腸 我 倒是 挺 喜歡 的 台南 的 粉腸 並 不 是 豬小腸 而是 有點 類似 香...   \n",
              "2  X+的+Y+的    嫩 的 意外 的         香 也 頗 嫩 的 意外 的 是 還 有 不少 蛤蜊 雖 個頭 不 大 但是 頗 新鮮   \n",
              "3  X+的+Y+的    大 的 蝦醬 的   蝦醬 空心菜 也 是 相當 經典 的 泰國 菜 份量 滿 大 的 蝦醬 的 味道 很 不錯 ...   \n",
              "4  X+的+Y+的   奶油 的 熱熱 的   中間 夾有 冰 奶油 的 熱熱 的 菠蘿油 可以 的話 真的 是 要 熱騰騰 的 吃 才 是...   \n",
              "\n",
              "  var1 var2 var1_pos var2_pos  \n",
              "0    下   阿將       Ng       Nc  \n",
              "1   喜歡   台南       VK       DE  \n",
              "2    嫩   意外       VH       VK  \n",
              "3    大   蝦醬       VH       Na  \n",
              "4   奶油   熱熱       Na       DE  "
            ],
            "text/html": [
              "\n",
              "  <div id=\"df-64e1cd04-0cc2-415a-ac28-40d9bed39fcf\">\n",
              "    <div class=\"colab-df-container\">\n",
              "      <div>\n",
              "<style scoped>\n",
              "    .dataframe tbody tr th:only-of-type {\n",
              "        vertical-align: middle;\n",
              "    }\n",
              "\n",
              "    .dataframe tbody tr th {\n",
              "        vertical-align: top;\n",
              "    }\n",
              "\n",
              "    .dataframe thead th {\n",
              "        text-align: right;\n",
              "    }\n",
              "</style>\n",
              "<table border=\"1\" class=\"dataframe\">\n",
              "  <thead>\n",
              "    <tr style=\"text-align: right;\">\n",
              "      <th></th>\n",
              "      <th>form</th>\n",
              "      <th>cnstr</th>\n",
              "      <th>cntxt</th>\n",
              "      <th>var1</th>\n",
              "      <th>var2</th>\n",
              "      <th>var1_pos</th>\n",
              "      <th>var2_pos</th>\n",
              "    </tr>\n",
              "  </thead>\n",
              "  <tbody>\n",
              "    <tr>\n",
              "      <th>0</th>\n",
              "      <td>X+的+Y+的</td>\n",
              "      <td>下 的 阿將 的</td>\n",
              "      <td>位在 阿里山 山腳 下 的 阿將 的 家 咖啡館 是 一 位 鄒族 藝術家 阿將 花 了 多...</td>\n",
              "      <td>下</td>\n",
              "      <td>阿將</td>\n",
              "      <td>Ng</td>\n",
              "      <td>Nc</td>\n",
              "    </tr>\n",
              "    <tr>\n",
              "      <th>1</th>\n",
              "      <td>X+的+Y+的</td>\n",
              "      <td>喜歡 的 台南 的</td>\n",
              "      <td>不過 粉腸 我 倒是 挺 喜歡 的 台南 的 粉腸 並 不 是 豬小腸 而是 有點 類似 香...</td>\n",
              "      <td>喜歡</td>\n",
              "      <td>台南</td>\n",
              "      <td>VK</td>\n",
              "      <td>DE</td>\n",
              "    </tr>\n",
              "    <tr>\n",
              "      <th>2</th>\n",
              "      <td>X+的+Y+的</td>\n",
              "      <td>嫩 的 意外 的</td>\n",
              "      <td>香 也 頗 嫩 的 意外 的 是 還 有 不少 蛤蜊 雖 個頭 不 大 但是 頗 新鮮</td>\n",
              "      <td>嫩</td>\n",
              "      <td>意外</td>\n",
              "      <td>VH</td>\n",
              "      <td>VK</td>\n",
              "    </tr>\n",
              "    <tr>\n",
              "      <th>3</th>\n",
              "      <td>X+的+Y+的</td>\n",
              "      <td>大 的 蝦醬 的</td>\n",
              "      <td>蝦醬 空心菜 也 是 相當 經典 的 泰國 菜 份量 滿 大 的 蝦醬 的 味道 很 不錯 ...</td>\n",
              "      <td>大</td>\n",
              "      <td>蝦醬</td>\n",
              "      <td>VH</td>\n",
              "      <td>Na</td>\n",
              "    </tr>\n",
              "    <tr>\n",
              "      <th>4</th>\n",
              "      <td>X+的+Y+的</td>\n",
              "      <td>奶油 的 熱熱 的</td>\n",
              "      <td>中間 夾有 冰 奶油 的 熱熱 的 菠蘿油 可以 的話 真的 是 要 熱騰騰 的 吃 才 是...</td>\n",
              "      <td>奶油</td>\n",
              "      <td>熱熱</td>\n",
              "      <td>Na</td>\n",
              "      <td>DE</td>\n",
              "    </tr>\n",
              "  </tbody>\n",
              "</table>\n",
              "</div>\n",
              "      <button class=\"colab-df-convert\" onclick=\"convertToInteractive('df-64e1cd04-0cc2-415a-ac28-40d9bed39fcf')\"\n",
              "              title=\"Convert this dataframe to an interactive table.\"\n",
              "              style=\"display:none;\">\n",
              "        \n",
              "  <svg xmlns=\"http://www.w3.org/2000/svg\" height=\"24px\"viewBox=\"0 0 24 24\"\n",
              "       width=\"24px\">\n",
              "    <path d=\"M0 0h24v24H0V0z\" fill=\"none\"/>\n",
              "    <path d=\"M18.56 5.44l.94 2.06.94-2.06 2.06-.94-2.06-.94-.94-2.06-.94 2.06-2.06.94zm-11 1L8.5 8.5l.94-2.06 2.06-.94-2.06-.94L8.5 2.5l-.94 2.06-2.06.94zm10 10l.94 2.06.94-2.06 2.06-.94-2.06-.94-.94-2.06-.94 2.06-2.06.94z\"/><path d=\"M17.41 7.96l-1.37-1.37c-.4-.4-.92-.59-1.43-.59-.52 0-1.04.2-1.43.59L10.3 9.45l-7.72 7.72c-.78.78-.78 2.05 0 2.83L4 21.41c.39.39.9.59 1.41.59.51 0 1.02-.2 1.41-.59l7.78-7.78 2.81-2.81c.8-.78.8-2.07 0-2.86zM5.41 20L4 18.59l7.72-7.72 1.47 1.35L5.41 20z\"/>\n",
              "  </svg>\n",
              "      </button>\n",
              "      \n",
              "  <style>\n",
              "    .colab-df-container {\n",
              "      display:flex;\n",
              "      flex-wrap:wrap;\n",
              "      gap: 12px;\n",
              "    }\n",
              "\n",
              "    .colab-df-convert {\n",
              "      background-color: #E8F0FE;\n",
              "      border: none;\n",
              "      border-radius: 50%;\n",
              "      cursor: pointer;\n",
              "      display: none;\n",
              "      fill: #1967D2;\n",
              "      height: 32px;\n",
              "      padding: 0 0 0 0;\n",
              "      width: 32px;\n",
              "    }\n",
              "\n",
              "    .colab-df-convert:hover {\n",
              "      background-color: #E2EBFA;\n",
              "      box-shadow: 0px 1px 2px rgba(60, 64, 67, 0.3), 0px 1px 3px 1px rgba(60, 64, 67, 0.15);\n",
              "      fill: #174EA6;\n",
              "    }\n",
              "\n",
              "    [theme=dark] .colab-df-convert {\n",
              "      background-color: #3B4455;\n",
              "      fill: #D2E3FC;\n",
              "    }\n",
              "\n",
              "    [theme=dark] .colab-df-convert:hover {\n",
              "      background-color: #434B5C;\n",
              "      box-shadow: 0px 1px 3px 1px rgba(0, 0, 0, 0.15);\n",
              "      filter: drop-shadow(0px 1px 2px rgba(0, 0, 0, 0.3));\n",
              "      fill: #FFFFFF;\n",
              "    }\n",
              "  </style>\n",
              "\n",
              "      <script>\n",
              "        const buttonEl =\n",
              "          document.querySelector('#df-64e1cd04-0cc2-415a-ac28-40d9bed39fcf button.colab-df-convert');\n",
              "        buttonEl.style.display =\n",
              "          google.colab.kernel.accessAllowed ? 'block' : 'none';\n",
              "\n",
              "        async function convertToInteractive(key) {\n",
              "          const element = document.querySelector('#df-64e1cd04-0cc2-415a-ac28-40d9bed39fcf');\n",
              "          const dataTable =\n",
              "            await google.colab.kernel.invokeFunction('convertToInteractive',\n",
              "                                                     [key], {});\n",
              "          if (!dataTable) return;\n",
              "\n",
              "          const docLinkHtml = 'Like what you see? Visit the ' +\n",
              "            '<a target=\"_blank\" href=https://colab.research.google.com/notebooks/data_table.ipynb>data table notebook</a>'\n",
              "            + ' to learn more about interactive tables.';\n",
              "          element.innerHTML = '';\n",
              "          dataTable['output_type'] = 'display_data';\n",
              "          await google.colab.output.renderOutput(dataTable, element);\n",
              "          const docLink = document.createElement('div');\n",
              "          docLink.innerHTML = docLinkHtml;\n",
              "          element.appendChild(docLink);\n",
              "        }\n",
              "      </script>\n",
              "    </div>\n",
              "  </div>\n",
              "  "
            ]
          },
          "metadata": {},
          "execution_count": 47
        }
      ]
    },
    {
      "cell_type": "code",
      "source": [
        "cnstr_pos_df.shape"
      ],
      "metadata": {
        "colab": {
          "base_uri": "https://localhost:8080/"
        },
        "id": "U3ybGR-EBZsK",
        "outputId": "a897f417-1809-466d-ffad-64186e4bf3fa"
      },
      "execution_count": null,
      "outputs": [
        {
          "output_type": "execute_result",
          "data": {
            "text/plain": [
              "(333, 7)"
            ]
          },
          "metadata": {},
          "execution_count": 48
        }
      ]
    },
    {
      "cell_type": "code",
      "source": [
        "form_k = list(set(cnstr_pos_df.form.to_list()))\n",
        "\n",
        "stats = cnstr_pos_df.groupby('form')['cnstr'].value_counts()\n",
        "for k in form_k:\n",
        "  print(f'{k}: {stats[k].sum()}')"
      ],
      "metadata": {
        "colab": {
          "base_uri": "https://localhost:8080/"
        },
        "id": "Q17iIEGviaCI",
        "outputId": "30636a27-2aa4-46b3-d4d2-57eedddfe17e"
      },
      "execution_count": null,
      "outputs": [
        {
          "output_type": "stream",
          "name": "stdout",
          "text": [
            "g1+了+g2+了: 17\n",
            "好+v1+好+v2: 16\n",
            "一+q1+一+q2: 20\n",
            "不+X1+不+X2: 22\n",
            "X+的+Y+的: 258\n"
          ]
        }
      ]
    },
    {
      "cell_type": "code",
      "source": [
        "stats['X+的+Y+的'][:10]"
      ],
      "metadata": {
        "colab": {
          "base_uri": "https://localhost:8080/"
        },
        "id": "-nlRjuG8CnKw",
        "outputId": "ac274247-6948-4dc7-a622-20dfc44d74a4"
      },
      "execution_count": null,
      "outputs": [
        {
          "output_type": "execute_result",
          "data": {
            "text/plain": [
              "cnstr\n",
              " 外婆 的 茶屋 的      4\n",
              " 烤 的 非常 的       2\n",
              " 一樣 的 一樣 的      1\n",
              " 一樣 的 口感 的      1\n",
              " 一樣 的 名稱 的      1\n",
              " 一樣 的 外婆 的      1\n",
              " 一般 的 民宅 的      1\n",
              " 一般 的 金鑽 的      1\n",
              " 一點 的 炒飯組 的     1\n",
              " 上 的 選擇 的       1\n",
              "Name: cnstr, dtype: int64"
            ]
          },
          "metadata": {},
          "execution_count": 51
        }
      ]
    },
    {
      "cell_type": "code",
      "source": [
        "stats['一+q1+一+q2'][:10]"
      ],
      "metadata": {
        "colab": {
          "base_uri": "https://localhost:8080/"
        },
        "id": "ehW7ml0YEMZc",
        "outputId": "8bf83147-6e60-44aa-e952-1cad02181ad1"
      },
      "execution_count": null,
      "outputs": [
        {
          "output_type": "execute_result",
          "data": {
            "text/plain": [
              "cnstr\n",
              " 一 顆 一 顆     8\n",
              " 一 個 一 個     7\n",
              " 一 塊 一 塊     4\n",
              " 一 隻 一 歲     1\n",
              "Name: cnstr, dtype: int64"
            ]
          },
          "metadata": {},
          "execution_count": 52
        }
      ]
    },
    {
      "cell_type": "code",
      "source": [
        "stats['g1+了+g2+了'][:10]"
      ],
      "metadata": {
        "colab": {
          "base_uri": "https://localhost:8080/"
        },
        "id": "Ca1Tc5fgopU0",
        "outputId": "928df99c-63a4-40e8-c93d-9fa254fed1d1"
      },
      "execution_count": null,
      "outputs": [
        {
          "output_type": "execute_result",
          "data": {
            "text/plain": [
              "cnstr\n",
              " 久 了 約 了      1\n",
              " 吃 了 不少 了     1\n",
              " 吃完 了 忘 了     1\n",
              " 好吃 了 加 了     1\n",
              " 忘 了 拍 了      1\n",
              " 拿光 了 問 了     1\n",
              " 棚 了 到 了      1\n",
              " 甜味 了 咬 了     1\n",
              " 用 了 加 了      1\n",
              " 的 了 吃 了      1\n",
              "Name: cnstr, dtype: int64"
            ]
          },
          "metadata": {},
          "execution_count": 53
        }
      ]
    },
    {
      "cell_type": "code",
      "source": [
        "stats['好+v1+好+v2'][:10]"
      ],
      "metadata": {
        "colab": {
          "base_uri": "https://localhost:8080/"
        },
        "id": "pfntRYKvpbyP",
        "outputId": "c96e159f-e5fb-4201-a0a2-7d12a3531c85"
      },
      "execution_count": null,
      "outputs": [
        {
          "output_type": "execute_result",
          "data": {
            "text/plain": [
              "cnstr\n",
              " 好 久 好 久      1\n",
              " 好 乖 好 慵懶     1\n",
              " 好 可惜 好 想     1\n",
              " 好 好吃 好 香     1\n",
              " 好 嫩 好 新鮮     1\n",
              " 好 彈 好 甜      1\n",
              " 好 想 好 想      1\n",
              " 好 滑 好 順口     1\n",
              " 好 滿足 好 飽     1\n",
              " 好 濃 好 香      1\n",
              "Name: cnstr, dtype: int64"
            ]
          },
          "metadata": {},
          "execution_count": 54
        }
      ]
    },
    {
      "cell_type": "code",
      "source": [
        "stats['不+X1+不+X2'][:10]"
      ],
      "metadata": {
        "colab": {
          "base_uri": "https://localhost:8080/"
        },
        "id": "YLSNvG15ozzt",
        "outputId": "842efd27-9745-490c-9be7-2a060be4d80c"
      },
      "execution_count": null,
      "outputs": [
        {
          "output_type": "execute_result",
          "data": {
            "text/plain": [
              "cnstr\n",
              " 不 甜 不 膩      3\n",
              " 不 吃 不 知道     2\n",
              " 不 肥 不 膩      2\n",
              " 不 苦 不 澀      2\n",
              " 不 多 不 清楚     1\n",
              " 不 好 不 壞      1\n",
              " 不 快 不 慢      1\n",
              " 不 熟 不 一樣     1\n",
              " 不 肥 不 瘦      1\n",
              " 不 腥 不 臊      1\n",
              "Name: cnstr, dtype: int64"
            ]
          },
          "metadata": {},
          "execution_count": 55
        }
      ]
    },
    {
      "cell_type": "markdown",
      "source": [
        "## (4) 分析構式及語境（30%)\n",
        "> 挑選3個構式，對其進行分析（可以是質性或量化分析）。(各10%)\n",
        "\n",
        "例如：\n",
        "分析 A 構式\n",
        "- A 構式常出現在什麼discourse context （提醒、建議、論述、警告、批判等等），可能是什麼原因？\n",
        "- 在一個句子中，常跟A構式共同出現的字詞、詞性、人稱、動詞類型、其他構式等等，可能是什麼原因？\n",
        "- 用CwnGraph或dependency parser，分析 A 構式內部（那4個token）的構詞關係、語意關係、句法結構... \n",
        "\n",
        "`不一定要針對上述項目做分析，請多觀察你整理的資料，並且佐以查到的語言學、構式相關資料，發揮想像力＆平時做研究的分析能力！`\n"
      ],
      "metadata": {
        "id": "RTmXVinWkhtt"
      }
    },
    {
      "cell_type": "markdown",
      "source": [
        "[Deborah's answer](https://github.com/lope-classroom/hw7_construction-deborahwatty/blob/main/HW7_construction_deborahwatty.ipynb)\n",
        "\n",
        "[Allen's answer](https://github.com/lope-classroom/hw7_construction-allenwch/blob/main/HW7_construction_%E7%86%8A%E5%81%89%E5%82%91.ipynb)"
      ],
      "metadata": {
        "id": "UunTLokjk9j-"
      }
    }
  ],
  "metadata": {
    "colab": {
      "provenance": []
    },
    "kernelspec": {
      "display_name": "Python 3",
      "name": "python3"
    },
    "language_info": {
      "name": "python"
    },
    "gpuClass": "standard",
    "accelerator": "GPU",
    "widgets": {
      "application/vnd.jupyter.widget-state+json": {
        "79b8eef8079c41608d5d5b52ec01a530": {
          "model_module": "@jupyter-widgets/controls",
          "model_name": "HBoxModel",
          "model_module_version": "1.5.0",
          "state": {
            "_dom_classes": [],
            "_model_module": "@jupyter-widgets/controls",
            "_model_module_version": "1.5.0",
            "_model_name": "HBoxModel",
            "_view_count": null,
            "_view_module": "@jupyter-widgets/controls",
            "_view_module_version": "1.5.0",
            "_view_name": "HBoxView",
            "box_style": "",
            "children": [
              "IPY_MODEL_e1ad135f52744abaae96b3ebc2230858",
              "IPY_MODEL_c80824cbe54e46639365ebf44997a595",
              "IPY_MODEL_9c6c4d89afd944e5b1e222b576f0a53e"
            ],
            "layout": "IPY_MODEL_da160529e6534a54858994e976380250"
          }
        },
        "e1ad135f52744abaae96b3ebc2230858": {
          "model_module": "@jupyter-widgets/controls",
          "model_name": "HTMLModel",
          "model_module_version": "1.5.0",
          "state": {
            "_dom_classes": [],
            "_model_module": "@jupyter-widgets/controls",
            "_model_module_version": "1.5.0",
            "_model_name": "HTMLModel",
            "_view_count": null,
            "_view_module": "@jupyter-widgets/controls",
            "_view_module_version": "1.5.0",
            "_view_name": "HTMLView",
            "description": "",
            "description_tooltip": null,
            "layout": "IPY_MODEL_921f50e789ed49d6ab90d3fe2b2f3744",
            "placeholder": "​",
            "style": "IPY_MODEL_7b499844dbec4683b939725cfccea451",
            "value": "Downloading (…)lve/main/config.json: 100%"
          }
        },
        "c80824cbe54e46639365ebf44997a595": {
          "model_module": "@jupyter-widgets/controls",
          "model_name": "FloatProgressModel",
          "model_module_version": "1.5.0",
          "state": {
            "_dom_classes": [],
            "_model_module": "@jupyter-widgets/controls",
            "_model_module_version": "1.5.0",
            "_model_name": "FloatProgressModel",
            "_view_count": null,
            "_view_module": "@jupyter-widgets/controls",
            "_view_module_version": "1.5.0",
            "_view_name": "ProgressView",
            "bar_style": "success",
            "description": "",
            "description_tooltip": null,
            "layout": "IPY_MODEL_9f831fa5d28c4039aadd7b134380101c",
            "max": 804,
            "min": 0,
            "orientation": "horizontal",
            "style": "IPY_MODEL_735e7589c20041e39d130630c9f12c74",
            "value": 804
          }
        },
        "9c6c4d89afd944e5b1e222b576f0a53e": {
          "model_module": "@jupyter-widgets/controls",
          "model_name": "HTMLModel",
          "model_module_version": "1.5.0",
          "state": {
            "_dom_classes": [],
            "_model_module": "@jupyter-widgets/controls",
            "_model_module_version": "1.5.0",
            "_model_name": "HTMLModel",
            "_view_count": null,
            "_view_module": "@jupyter-widgets/controls",
            "_view_module_version": "1.5.0",
            "_view_name": "HTMLView",
            "description": "",
            "description_tooltip": null,
            "layout": "IPY_MODEL_05365069f47f4503b55dce307f19fa5b",
            "placeholder": "​",
            "style": "IPY_MODEL_1a0da228e35241048c8e0743fea07ffb",
            "value": " 804/804 [00:00&lt;00:00, 43.4kB/s]"
          }
        },
        "da160529e6534a54858994e976380250": {
          "model_module": "@jupyter-widgets/base",
          "model_name": "LayoutModel",
          "model_module_version": "1.2.0",
          "state": {
            "_model_module": "@jupyter-widgets/base",
            "_model_module_version": "1.2.0",
            "_model_name": "LayoutModel",
            "_view_count": null,
            "_view_module": "@jupyter-widgets/base",
            "_view_module_version": "1.2.0",
            "_view_name": "LayoutView",
            "align_content": null,
            "align_items": null,
            "align_self": null,
            "border": null,
            "bottom": null,
            "display": null,
            "flex": null,
            "flex_flow": null,
            "grid_area": null,
            "grid_auto_columns": null,
            "grid_auto_flow": null,
            "grid_auto_rows": null,
            "grid_column": null,
            "grid_gap": null,
            "grid_row": null,
            "grid_template_areas": null,
            "grid_template_columns": null,
            "grid_template_rows": null,
            "height": null,
            "justify_content": null,
            "justify_items": null,
            "left": null,
            "margin": null,
            "max_height": null,
            "max_width": null,
            "min_height": null,
            "min_width": null,
            "object_fit": null,
            "object_position": null,
            "order": null,
            "overflow": null,
            "overflow_x": null,
            "overflow_y": null,
            "padding": null,
            "right": null,
            "top": null,
            "visibility": null,
            "width": null
          }
        },
        "921f50e789ed49d6ab90d3fe2b2f3744": {
          "model_module": "@jupyter-widgets/base",
          "model_name": "LayoutModel",
          "model_module_version": "1.2.0",
          "state": {
            "_model_module": "@jupyter-widgets/base",
            "_model_module_version": "1.2.0",
            "_model_name": "LayoutModel",
            "_view_count": null,
            "_view_module": "@jupyter-widgets/base",
            "_view_module_version": "1.2.0",
            "_view_name": "LayoutView",
            "align_content": null,
            "align_items": null,
            "align_self": null,
            "border": null,
            "bottom": null,
            "display": null,
            "flex": null,
            "flex_flow": null,
            "grid_area": null,
            "grid_auto_columns": null,
            "grid_auto_flow": null,
            "grid_auto_rows": null,
            "grid_column": null,
            "grid_gap": null,
            "grid_row": null,
            "grid_template_areas": null,
            "grid_template_columns": null,
            "grid_template_rows": null,
            "height": null,
            "justify_content": null,
            "justify_items": null,
            "left": null,
            "margin": null,
            "max_height": null,
            "max_width": null,
            "min_height": null,
            "min_width": null,
            "object_fit": null,
            "object_position": null,
            "order": null,
            "overflow": null,
            "overflow_x": null,
            "overflow_y": null,
            "padding": null,
            "right": null,
            "top": null,
            "visibility": null,
            "width": null
          }
        },
        "7b499844dbec4683b939725cfccea451": {
          "model_module": "@jupyter-widgets/controls",
          "model_name": "DescriptionStyleModel",
          "model_module_version": "1.5.0",
          "state": {
            "_model_module": "@jupyter-widgets/controls",
            "_model_module_version": "1.5.0",
            "_model_name": "DescriptionStyleModel",
            "_view_count": null,
            "_view_module": "@jupyter-widgets/base",
            "_view_module_version": "1.2.0",
            "_view_name": "StyleView",
            "description_width": ""
          }
        },
        "9f831fa5d28c4039aadd7b134380101c": {
          "model_module": "@jupyter-widgets/base",
          "model_name": "LayoutModel",
          "model_module_version": "1.2.0",
          "state": {
            "_model_module": "@jupyter-widgets/base",
            "_model_module_version": "1.2.0",
            "_model_name": "LayoutModel",
            "_view_count": null,
            "_view_module": "@jupyter-widgets/base",
            "_view_module_version": "1.2.0",
            "_view_name": "LayoutView",
            "align_content": null,
            "align_items": null,
            "align_self": null,
            "border": null,
            "bottom": null,
            "display": null,
            "flex": null,
            "flex_flow": null,
            "grid_area": null,
            "grid_auto_columns": null,
            "grid_auto_flow": null,
            "grid_auto_rows": null,
            "grid_column": null,
            "grid_gap": null,
            "grid_row": null,
            "grid_template_areas": null,
            "grid_template_columns": null,
            "grid_template_rows": null,
            "height": null,
            "justify_content": null,
            "justify_items": null,
            "left": null,
            "margin": null,
            "max_height": null,
            "max_width": null,
            "min_height": null,
            "min_width": null,
            "object_fit": null,
            "object_position": null,
            "order": null,
            "overflow": null,
            "overflow_x": null,
            "overflow_y": null,
            "padding": null,
            "right": null,
            "top": null,
            "visibility": null,
            "width": null
          }
        },
        "735e7589c20041e39d130630c9f12c74": {
          "model_module": "@jupyter-widgets/controls",
          "model_name": "ProgressStyleModel",
          "model_module_version": "1.5.0",
          "state": {
            "_model_module": "@jupyter-widgets/controls",
            "_model_module_version": "1.5.0",
            "_model_name": "ProgressStyleModel",
            "_view_count": null,
            "_view_module": "@jupyter-widgets/base",
            "_view_module_version": "1.2.0",
            "_view_name": "StyleView",
            "bar_color": null,
            "description_width": ""
          }
        },
        "05365069f47f4503b55dce307f19fa5b": {
          "model_module": "@jupyter-widgets/base",
          "model_name": "LayoutModel",
          "model_module_version": "1.2.0",
          "state": {
            "_model_module": "@jupyter-widgets/base",
            "_model_module_version": "1.2.0",
            "_model_name": "LayoutModel",
            "_view_count": null,
            "_view_module": "@jupyter-widgets/base",
            "_view_module_version": "1.2.0",
            "_view_name": "LayoutView",
            "align_content": null,
            "align_items": null,
            "align_self": null,
            "border": null,
            "bottom": null,
            "display": null,
            "flex": null,
            "flex_flow": null,
            "grid_area": null,
            "grid_auto_columns": null,
            "grid_auto_flow": null,
            "grid_auto_rows": null,
            "grid_column": null,
            "grid_gap": null,
            "grid_row": null,
            "grid_template_areas": null,
            "grid_template_columns": null,
            "grid_template_rows": null,
            "height": null,
            "justify_content": null,
            "justify_items": null,
            "left": null,
            "margin": null,
            "max_height": null,
            "max_width": null,
            "min_height": null,
            "min_width": null,
            "object_fit": null,
            "object_position": null,
            "order": null,
            "overflow": null,
            "overflow_x": null,
            "overflow_y": null,
            "padding": null,
            "right": null,
            "top": null,
            "visibility": null,
            "width": null
          }
        },
        "1a0da228e35241048c8e0743fea07ffb": {
          "model_module": "@jupyter-widgets/controls",
          "model_name": "DescriptionStyleModel",
          "model_module_version": "1.5.0",
          "state": {
            "_model_module": "@jupyter-widgets/controls",
            "_model_module_version": "1.5.0",
            "_model_name": "DescriptionStyleModel",
            "_view_count": null,
            "_view_module": "@jupyter-widgets/base",
            "_view_module_version": "1.2.0",
            "_view_name": "StyleView",
            "description_width": ""
          }
        },
        "09502b32eceb49faa5a106f4f0b10c50": {
          "model_module": "@jupyter-widgets/controls",
          "model_name": "HBoxModel",
          "model_module_version": "1.5.0",
          "state": {
            "_dom_classes": [],
            "_model_module": "@jupyter-widgets/controls",
            "_model_module_version": "1.5.0",
            "_model_name": "HBoxModel",
            "_view_count": null,
            "_view_module": "@jupyter-widgets/controls",
            "_view_module_version": "1.5.0",
            "_view_name": "HBoxView",
            "box_style": "",
            "children": [
              "IPY_MODEL_c8efc73435e543ba8a11d0c126b34970",
              "IPY_MODEL_aa37b9ca06a14d71866286ef10e9e54c",
              "IPY_MODEL_c9b30b29352f45f2b2b02fc8b0bc0a7a"
            ],
            "layout": "IPY_MODEL_3bc923d95c0f444c86f45bba91f99a58"
          }
        },
        "c8efc73435e543ba8a11d0c126b34970": {
          "model_module": "@jupyter-widgets/controls",
          "model_name": "HTMLModel",
          "model_module_version": "1.5.0",
          "state": {
            "_dom_classes": [],
            "_model_module": "@jupyter-widgets/controls",
            "_model_module_version": "1.5.0",
            "_model_name": "HTMLModel",
            "_view_count": null,
            "_view_module": "@jupyter-widgets/controls",
            "_view_module_version": "1.5.0",
            "_view_name": "HTMLView",
            "description": "",
            "description_tooltip": null,
            "layout": "IPY_MODEL_11f4601af4d5446ea1fbc1bca9777a09",
            "placeholder": "​",
            "style": "IPY_MODEL_1c237c12cbd1452ebdd19500ea29e252",
            "value": "Downloading pytorch_model.bin: 100%"
          }
        },
        "aa37b9ca06a14d71866286ef10e9e54c": {
          "model_module": "@jupyter-widgets/controls",
          "model_name": "FloatProgressModel",
          "model_module_version": "1.5.0",
          "state": {
            "_dom_classes": [],
            "_model_module": "@jupyter-widgets/controls",
            "_model_module_version": "1.5.0",
            "_model_name": "FloatProgressModel",
            "_view_count": null,
            "_view_module": "@jupyter-widgets/controls",
            "_view_module_version": "1.5.0",
            "_view_name": "ProgressView",
            "bar_style": "success",
            "description": "",
            "description_tooltip": null,
            "layout": "IPY_MODEL_27e1780fdf4e430dacab516dcbc75c7a",
            "max": 406802935,
            "min": 0,
            "orientation": "horizontal",
            "style": "IPY_MODEL_e027792318b745e1ac820c7f06018704",
            "value": 406802935
          }
        },
        "c9b30b29352f45f2b2b02fc8b0bc0a7a": {
          "model_module": "@jupyter-widgets/controls",
          "model_name": "HTMLModel",
          "model_module_version": "1.5.0",
          "state": {
            "_dom_classes": [],
            "_model_module": "@jupyter-widgets/controls",
            "_model_module_version": "1.5.0",
            "_model_name": "HTMLModel",
            "_view_count": null,
            "_view_module": "@jupyter-widgets/controls",
            "_view_module_version": "1.5.0",
            "_view_name": "HTMLView",
            "description": "",
            "description_tooltip": null,
            "layout": "IPY_MODEL_4b781c8c1e3c49a097611641dc0e7f71",
            "placeholder": "​",
            "style": "IPY_MODEL_cee1fd434d6e42fe87b4dae0173d9aa7",
            "value": " 407M/407M [00:01&lt;00:00, 261MB/s]"
          }
        },
        "3bc923d95c0f444c86f45bba91f99a58": {
          "model_module": "@jupyter-widgets/base",
          "model_name": "LayoutModel",
          "model_module_version": "1.2.0",
          "state": {
            "_model_module": "@jupyter-widgets/base",
            "_model_module_version": "1.2.0",
            "_model_name": "LayoutModel",
            "_view_count": null,
            "_view_module": "@jupyter-widgets/base",
            "_view_module_version": "1.2.0",
            "_view_name": "LayoutView",
            "align_content": null,
            "align_items": null,
            "align_self": null,
            "border": null,
            "bottom": null,
            "display": null,
            "flex": null,
            "flex_flow": null,
            "grid_area": null,
            "grid_auto_columns": null,
            "grid_auto_flow": null,
            "grid_auto_rows": null,
            "grid_column": null,
            "grid_gap": null,
            "grid_row": null,
            "grid_template_areas": null,
            "grid_template_columns": null,
            "grid_template_rows": null,
            "height": null,
            "justify_content": null,
            "justify_items": null,
            "left": null,
            "margin": null,
            "max_height": null,
            "max_width": null,
            "min_height": null,
            "min_width": null,
            "object_fit": null,
            "object_position": null,
            "order": null,
            "overflow": null,
            "overflow_x": null,
            "overflow_y": null,
            "padding": null,
            "right": null,
            "top": null,
            "visibility": null,
            "width": null
          }
        },
        "11f4601af4d5446ea1fbc1bca9777a09": {
          "model_module": "@jupyter-widgets/base",
          "model_name": "LayoutModel",
          "model_module_version": "1.2.0",
          "state": {
            "_model_module": "@jupyter-widgets/base",
            "_model_module_version": "1.2.0",
            "_model_name": "LayoutModel",
            "_view_count": null,
            "_view_module": "@jupyter-widgets/base",
            "_view_module_version": "1.2.0",
            "_view_name": "LayoutView",
            "align_content": null,
            "align_items": null,
            "align_self": null,
            "border": null,
            "bottom": null,
            "display": null,
            "flex": null,
            "flex_flow": null,
            "grid_area": null,
            "grid_auto_columns": null,
            "grid_auto_flow": null,
            "grid_auto_rows": null,
            "grid_column": null,
            "grid_gap": null,
            "grid_row": null,
            "grid_template_areas": null,
            "grid_template_columns": null,
            "grid_template_rows": null,
            "height": null,
            "justify_content": null,
            "justify_items": null,
            "left": null,
            "margin": null,
            "max_height": null,
            "max_width": null,
            "min_height": null,
            "min_width": null,
            "object_fit": null,
            "object_position": null,
            "order": null,
            "overflow": null,
            "overflow_x": null,
            "overflow_y": null,
            "padding": null,
            "right": null,
            "top": null,
            "visibility": null,
            "width": null
          }
        },
        "1c237c12cbd1452ebdd19500ea29e252": {
          "model_module": "@jupyter-widgets/controls",
          "model_name": "DescriptionStyleModel",
          "model_module_version": "1.5.0",
          "state": {
            "_model_module": "@jupyter-widgets/controls",
            "_model_module_version": "1.5.0",
            "_model_name": "DescriptionStyleModel",
            "_view_count": null,
            "_view_module": "@jupyter-widgets/base",
            "_view_module_version": "1.2.0",
            "_view_name": "StyleView",
            "description_width": ""
          }
        },
        "27e1780fdf4e430dacab516dcbc75c7a": {
          "model_module": "@jupyter-widgets/base",
          "model_name": "LayoutModel",
          "model_module_version": "1.2.0",
          "state": {
            "_model_module": "@jupyter-widgets/base",
            "_model_module_version": "1.2.0",
            "_model_name": "LayoutModel",
            "_view_count": null,
            "_view_module": "@jupyter-widgets/base",
            "_view_module_version": "1.2.0",
            "_view_name": "LayoutView",
            "align_content": null,
            "align_items": null,
            "align_self": null,
            "border": null,
            "bottom": null,
            "display": null,
            "flex": null,
            "flex_flow": null,
            "grid_area": null,
            "grid_auto_columns": null,
            "grid_auto_flow": null,
            "grid_auto_rows": null,
            "grid_column": null,
            "grid_gap": null,
            "grid_row": null,
            "grid_template_areas": null,
            "grid_template_columns": null,
            "grid_template_rows": null,
            "height": null,
            "justify_content": null,
            "justify_items": null,
            "left": null,
            "margin": null,
            "max_height": null,
            "max_width": null,
            "min_height": null,
            "min_width": null,
            "object_fit": null,
            "object_position": null,
            "order": null,
            "overflow": null,
            "overflow_x": null,
            "overflow_y": null,
            "padding": null,
            "right": null,
            "top": null,
            "visibility": null,
            "width": null
          }
        },
        "e027792318b745e1ac820c7f06018704": {
          "model_module": "@jupyter-widgets/controls",
          "model_name": "ProgressStyleModel",
          "model_module_version": "1.5.0",
          "state": {
            "_model_module": "@jupyter-widgets/controls",
            "_model_module_version": "1.5.0",
            "_model_name": "ProgressStyleModel",
            "_view_count": null,
            "_view_module": "@jupyter-widgets/base",
            "_view_module_version": "1.2.0",
            "_view_name": "StyleView",
            "bar_color": null,
            "description_width": ""
          }
        },
        "4b781c8c1e3c49a097611641dc0e7f71": {
          "model_module": "@jupyter-widgets/base",
          "model_name": "LayoutModel",
          "model_module_version": "1.2.0",
          "state": {
            "_model_module": "@jupyter-widgets/base",
            "_model_module_version": "1.2.0",
            "_model_name": "LayoutModel",
            "_view_count": null,
            "_view_module": "@jupyter-widgets/base",
            "_view_module_version": "1.2.0",
            "_view_name": "LayoutView",
            "align_content": null,
            "align_items": null,
            "align_self": null,
            "border": null,
            "bottom": null,
            "display": null,
            "flex": null,
            "flex_flow": null,
            "grid_area": null,
            "grid_auto_columns": null,
            "grid_auto_flow": null,
            "grid_auto_rows": null,
            "grid_column": null,
            "grid_gap": null,
            "grid_row": null,
            "grid_template_areas": null,
            "grid_template_columns": null,
            "grid_template_rows": null,
            "height": null,
            "justify_content": null,
            "justify_items": null,
            "left": null,
            "margin": null,
            "max_height": null,
            "max_width": null,
            "min_height": null,
            "min_width": null,
            "object_fit": null,
            "object_position": null,
            "order": null,
            "overflow": null,
            "overflow_x": null,
            "overflow_y": null,
            "padding": null,
            "right": null,
            "top": null,
            "visibility": null,
            "width": null
          }
        },
        "cee1fd434d6e42fe87b4dae0173d9aa7": {
          "model_module": "@jupyter-widgets/controls",
          "model_name": "DescriptionStyleModel",
          "model_module_version": "1.5.0",
          "state": {
            "_model_module": "@jupyter-widgets/controls",
            "_model_module_version": "1.5.0",
            "_model_name": "DescriptionStyleModel",
            "_view_count": null,
            "_view_module": "@jupyter-widgets/base",
            "_view_module_version": "1.2.0",
            "_view_name": "StyleView",
            "description_width": ""
          }
        },
        "7a42aebe465046f890480c8fc07d66be": {
          "model_module": "@jupyter-widgets/controls",
          "model_name": "HBoxModel",
          "model_module_version": "1.5.0",
          "state": {
            "_dom_classes": [],
            "_model_module": "@jupyter-widgets/controls",
            "_model_module_version": "1.5.0",
            "_model_name": "HBoxModel",
            "_view_count": null,
            "_view_module": "@jupyter-widgets/controls",
            "_view_module_version": "1.5.0",
            "_view_name": "HBoxView",
            "box_style": "",
            "children": [
              "IPY_MODEL_bb87fb390f6c4999a1cc4a2a7a0c116e",
              "IPY_MODEL_dca33ab866f54cfab232b0f50a26cd1f",
              "IPY_MODEL_e960d077bf6441049290e5c22b30f3d9"
            ],
            "layout": "IPY_MODEL_c48c45e720564677b2dc3f74d847d2e9"
          }
        },
        "bb87fb390f6c4999a1cc4a2a7a0c116e": {
          "model_module": "@jupyter-widgets/controls",
          "model_name": "HTMLModel",
          "model_module_version": "1.5.0",
          "state": {
            "_dom_classes": [],
            "_model_module": "@jupyter-widgets/controls",
            "_model_module_version": "1.5.0",
            "_model_name": "HTMLModel",
            "_view_count": null,
            "_view_module": "@jupyter-widgets/controls",
            "_view_module_version": "1.5.0",
            "_view_name": "HTMLView",
            "description": "",
            "description_tooltip": null,
            "layout": "IPY_MODEL_a2da4062f12b4cf4bceb9b2a7e488419",
            "placeholder": "​",
            "style": "IPY_MODEL_684e40689def4164a6e457e69fbc9997",
            "value": "Downloading (…)okenizer_config.json: 100%"
          }
        },
        "dca33ab866f54cfab232b0f50a26cd1f": {
          "model_module": "@jupyter-widgets/controls",
          "model_name": "FloatProgressModel",
          "model_module_version": "1.5.0",
          "state": {
            "_dom_classes": [],
            "_model_module": "@jupyter-widgets/controls",
            "_model_module_version": "1.5.0",
            "_model_name": "FloatProgressModel",
            "_view_count": null,
            "_view_module": "@jupyter-widgets/controls",
            "_view_module_version": "1.5.0",
            "_view_name": "ProgressView",
            "bar_style": "success",
            "description": "",
            "description_tooltip": null,
            "layout": "IPY_MODEL_782a4b9fa3ca4a4fb086e3838c89d85b",
            "max": 301,
            "min": 0,
            "orientation": "horizontal",
            "style": "IPY_MODEL_35568f2ff38247b8af1b3478b8939365",
            "value": 301
          }
        },
        "e960d077bf6441049290e5c22b30f3d9": {
          "model_module": "@jupyter-widgets/controls",
          "model_name": "HTMLModel",
          "model_module_version": "1.5.0",
          "state": {
            "_dom_classes": [],
            "_model_module": "@jupyter-widgets/controls",
            "_model_module_version": "1.5.0",
            "_model_name": "HTMLModel",
            "_view_count": null,
            "_view_module": "@jupyter-widgets/controls",
            "_view_module_version": "1.5.0",
            "_view_name": "HTMLView",
            "description": "",
            "description_tooltip": null,
            "layout": "IPY_MODEL_90ca9ead3dfd44d6a8b8e14112e81410",
            "placeholder": "​",
            "style": "IPY_MODEL_4e702b7edf274064aea0536da8e56e32",
            "value": " 301/301 [00:00&lt;00:00, 19.3kB/s]"
          }
        },
        "c48c45e720564677b2dc3f74d847d2e9": {
          "model_module": "@jupyter-widgets/base",
          "model_name": "LayoutModel",
          "model_module_version": "1.2.0",
          "state": {
            "_model_module": "@jupyter-widgets/base",
            "_model_module_version": "1.2.0",
            "_model_name": "LayoutModel",
            "_view_count": null,
            "_view_module": "@jupyter-widgets/base",
            "_view_module_version": "1.2.0",
            "_view_name": "LayoutView",
            "align_content": null,
            "align_items": null,
            "align_self": null,
            "border": null,
            "bottom": null,
            "display": null,
            "flex": null,
            "flex_flow": null,
            "grid_area": null,
            "grid_auto_columns": null,
            "grid_auto_flow": null,
            "grid_auto_rows": null,
            "grid_column": null,
            "grid_gap": null,
            "grid_row": null,
            "grid_template_areas": null,
            "grid_template_columns": null,
            "grid_template_rows": null,
            "height": null,
            "justify_content": null,
            "justify_items": null,
            "left": null,
            "margin": null,
            "max_height": null,
            "max_width": null,
            "min_height": null,
            "min_width": null,
            "object_fit": null,
            "object_position": null,
            "order": null,
            "overflow": null,
            "overflow_x": null,
            "overflow_y": null,
            "padding": null,
            "right": null,
            "top": null,
            "visibility": null,
            "width": null
          }
        },
        "a2da4062f12b4cf4bceb9b2a7e488419": {
          "model_module": "@jupyter-widgets/base",
          "model_name": "LayoutModel",
          "model_module_version": "1.2.0",
          "state": {
            "_model_module": "@jupyter-widgets/base",
            "_model_module_version": "1.2.0",
            "_model_name": "LayoutModel",
            "_view_count": null,
            "_view_module": "@jupyter-widgets/base",
            "_view_module_version": "1.2.0",
            "_view_name": "LayoutView",
            "align_content": null,
            "align_items": null,
            "align_self": null,
            "border": null,
            "bottom": null,
            "display": null,
            "flex": null,
            "flex_flow": null,
            "grid_area": null,
            "grid_auto_columns": null,
            "grid_auto_flow": null,
            "grid_auto_rows": null,
            "grid_column": null,
            "grid_gap": null,
            "grid_row": null,
            "grid_template_areas": null,
            "grid_template_columns": null,
            "grid_template_rows": null,
            "height": null,
            "justify_content": null,
            "justify_items": null,
            "left": null,
            "margin": null,
            "max_height": null,
            "max_width": null,
            "min_height": null,
            "min_width": null,
            "object_fit": null,
            "object_position": null,
            "order": null,
            "overflow": null,
            "overflow_x": null,
            "overflow_y": null,
            "padding": null,
            "right": null,
            "top": null,
            "visibility": null,
            "width": null
          }
        },
        "684e40689def4164a6e457e69fbc9997": {
          "model_module": "@jupyter-widgets/controls",
          "model_name": "DescriptionStyleModel",
          "model_module_version": "1.5.0",
          "state": {
            "_model_module": "@jupyter-widgets/controls",
            "_model_module_version": "1.5.0",
            "_model_name": "DescriptionStyleModel",
            "_view_count": null,
            "_view_module": "@jupyter-widgets/base",
            "_view_module_version": "1.2.0",
            "_view_name": "StyleView",
            "description_width": ""
          }
        },
        "782a4b9fa3ca4a4fb086e3838c89d85b": {
          "model_module": "@jupyter-widgets/base",
          "model_name": "LayoutModel",
          "model_module_version": "1.2.0",
          "state": {
            "_model_module": "@jupyter-widgets/base",
            "_model_module_version": "1.2.0",
            "_model_name": "LayoutModel",
            "_view_count": null,
            "_view_module": "@jupyter-widgets/base",
            "_view_module_version": "1.2.0",
            "_view_name": "LayoutView",
            "align_content": null,
            "align_items": null,
            "align_self": null,
            "border": null,
            "bottom": null,
            "display": null,
            "flex": null,
            "flex_flow": null,
            "grid_area": null,
            "grid_auto_columns": null,
            "grid_auto_flow": null,
            "grid_auto_rows": null,
            "grid_column": null,
            "grid_gap": null,
            "grid_row": null,
            "grid_template_areas": null,
            "grid_template_columns": null,
            "grid_template_rows": null,
            "height": null,
            "justify_content": null,
            "justify_items": null,
            "left": null,
            "margin": null,
            "max_height": null,
            "max_width": null,
            "min_height": null,
            "min_width": null,
            "object_fit": null,
            "object_position": null,
            "order": null,
            "overflow": null,
            "overflow_x": null,
            "overflow_y": null,
            "padding": null,
            "right": null,
            "top": null,
            "visibility": null,
            "width": null
          }
        },
        "35568f2ff38247b8af1b3478b8939365": {
          "model_module": "@jupyter-widgets/controls",
          "model_name": "ProgressStyleModel",
          "model_module_version": "1.5.0",
          "state": {
            "_model_module": "@jupyter-widgets/controls",
            "_model_module_version": "1.5.0",
            "_model_name": "ProgressStyleModel",
            "_view_count": null,
            "_view_module": "@jupyter-widgets/base",
            "_view_module_version": "1.2.0",
            "_view_name": "StyleView",
            "bar_color": null,
            "description_width": ""
          }
        },
        "90ca9ead3dfd44d6a8b8e14112e81410": {
          "model_module": "@jupyter-widgets/base",
          "model_name": "LayoutModel",
          "model_module_version": "1.2.0",
          "state": {
            "_model_module": "@jupyter-widgets/base",
            "_model_module_version": "1.2.0",
            "_model_name": "LayoutModel",
            "_view_count": null,
            "_view_module": "@jupyter-widgets/base",
            "_view_module_version": "1.2.0",
            "_view_name": "LayoutView",
            "align_content": null,
            "align_items": null,
            "align_self": null,
            "border": null,
            "bottom": null,
            "display": null,
            "flex": null,
            "flex_flow": null,
            "grid_area": null,
            "grid_auto_columns": null,
            "grid_auto_flow": null,
            "grid_auto_rows": null,
            "grid_column": null,
            "grid_gap": null,
            "grid_row": null,
            "grid_template_areas": null,
            "grid_template_columns": null,
            "grid_template_rows": null,
            "height": null,
            "justify_content": null,
            "justify_items": null,
            "left": null,
            "margin": null,
            "max_height": null,
            "max_width": null,
            "min_height": null,
            "min_width": null,
            "object_fit": null,
            "object_position": null,
            "order": null,
            "overflow": null,
            "overflow_x": null,
            "overflow_y": null,
            "padding": null,
            "right": null,
            "top": null,
            "visibility": null,
            "width": null
          }
        },
        "4e702b7edf274064aea0536da8e56e32": {
          "model_module": "@jupyter-widgets/controls",
          "model_name": "DescriptionStyleModel",
          "model_module_version": "1.5.0",
          "state": {
            "_model_module": "@jupyter-widgets/controls",
            "_model_module_version": "1.5.0",
            "_model_name": "DescriptionStyleModel",
            "_view_count": null,
            "_view_module": "@jupyter-widgets/base",
            "_view_module_version": "1.2.0",
            "_view_name": "StyleView",
            "description_width": ""
          }
        },
        "d0b0b39ddfc3451b992b6e20c7e2f0a3": {
          "model_module": "@jupyter-widgets/controls",
          "model_name": "HBoxModel",
          "model_module_version": "1.5.0",
          "state": {
            "_dom_classes": [],
            "_model_module": "@jupyter-widgets/controls",
            "_model_module_version": "1.5.0",
            "_model_name": "HBoxModel",
            "_view_count": null,
            "_view_module": "@jupyter-widgets/controls",
            "_view_module_version": "1.5.0",
            "_view_name": "HBoxView",
            "box_style": "",
            "children": [
              "IPY_MODEL_593c9aa0474e41c0a53939f2ca23a07c",
              "IPY_MODEL_2aeb5047bb42496ebe881b7c4add2cf8",
              "IPY_MODEL_3a930c0634a4448697e5969b04dd3204"
            ],
            "layout": "IPY_MODEL_545ed046c14a4bacbb48d9b1b63469f8"
          }
        },
        "593c9aa0474e41c0a53939f2ca23a07c": {
          "model_module": "@jupyter-widgets/controls",
          "model_name": "HTMLModel",
          "model_module_version": "1.5.0",
          "state": {
            "_dom_classes": [],
            "_model_module": "@jupyter-widgets/controls",
            "_model_module_version": "1.5.0",
            "_model_name": "HTMLModel",
            "_view_count": null,
            "_view_module": "@jupyter-widgets/controls",
            "_view_module_version": "1.5.0",
            "_view_name": "HTMLView",
            "description": "",
            "description_tooltip": null,
            "layout": "IPY_MODEL_f6f848acf6af4562a779397641edb7d8",
            "placeholder": "​",
            "style": "IPY_MODEL_84d79ca701394dbf812ae6bcaf21c5a1",
            "value": "Downloading (…)solve/main/vocab.txt: 100%"
          }
        },
        "2aeb5047bb42496ebe881b7c4add2cf8": {
          "model_module": "@jupyter-widgets/controls",
          "model_name": "FloatProgressModel",
          "model_module_version": "1.5.0",
          "state": {
            "_dom_classes": [],
            "_model_module": "@jupyter-widgets/controls",
            "_model_module_version": "1.5.0",
            "_model_name": "FloatProgressModel",
            "_view_count": null,
            "_view_module": "@jupyter-widgets/controls",
            "_view_module_version": "1.5.0",
            "_view_name": "ProgressView",
            "bar_style": "success",
            "description": "",
            "description_tooltip": null,
            "layout": "IPY_MODEL_230842b57d98426ca97eb10355a3334f",
            "max": 109540,
            "min": 0,
            "orientation": "horizontal",
            "style": "IPY_MODEL_381f9ffb96784b3c9d5a338a7ff5667e",
            "value": 109540
          }
        },
        "3a930c0634a4448697e5969b04dd3204": {
          "model_module": "@jupyter-widgets/controls",
          "model_name": "HTMLModel",
          "model_module_version": "1.5.0",
          "state": {
            "_dom_classes": [],
            "_model_module": "@jupyter-widgets/controls",
            "_model_module_version": "1.5.0",
            "_model_name": "HTMLModel",
            "_view_count": null,
            "_view_module": "@jupyter-widgets/controls",
            "_view_module_version": "1.5.0",
            "_view_name": "HTMLView",
            "description": "",
            "description_tooltip": null,
            "layout": "IPY_MODEL_f161425a45944b45aa76604d409f2e7e",
            "placeholder": "​",
            "style": "IPY_MODEL_d6f0a7d00ec541f18ffb3aeed498d1d7",
            "value": " 110k/110k [00:00&lt;00:00, 4.39MB/s]"
          }
        },
        "545ed046c14a4bacbb48d9b1b63469f8": {
          "model_module": "@jupyter-widgets/base",
          "model_name": "LayoutModel",
          "model_module_version": "1.2.0",
          "state": {
            "_model_module": "@jupyter-widgets/base",
            "_model_module_version": "1.2.0",
            "_model_name": "LayoutModel",
            "_view_count": null,
            "_view_module": "@jupyter-widgets/base",
            "_view_module_version": "1.2.0",
            "_view_name": "LayoutView",
            "align_content": null,
            "align_items": null,
            "align_self": null,
            "border": null,
            "bottom": null,
            "display": null,
            "flex": null,
            "flex_flow": null,
            "grid_area": null,
            "grid_auto_columns": null,
            "grid_auto_flow": null,
            "grid_auto_rows": null,
            "grid_column": null,
            "grid_gap": null,
            "grid_row": null,
            "grid_template_areas": null,
            "grid_template_columns": null,
            "grid_template_rows": null,
            "height": null,
            "justify_content": null,
            "justify_items": null,
            "left": null,
            "margin": null,
            "max_height": null,
            "max_width": null,
            "min_height": null,
            "min_width": null,
            "object_fit": null,
            "object_position": null,
            "order": null,
            "overflow": null,
            "overflow_x": null,
            "overflow_y": null,
            "padding": null,
            "right": null,
            "top": null,
            "visibility": null,
            "width": null
          }
        },
        "f6f848acf6af4562a779397641edb7d8": {
          "model_module": "@jupyter-widgets/base",
          "model_name": "LayoutModel",
          "model_module_version": "1.2.0",
          "state": {
            "_model_module": "@jupyter-widgets/base",
            "_model_module_version": "1.2.0",
            "_model_name": "LayoutModel",
            "_view_count": null,
            "_view_module": "@jupyter-widgets/base",
            "_view_module_version": "1.2.0",
            "_view_name": "LayoutView",
            "align_content": null,
            "align_items": null,
            "align_self": null,
            "border": null,
            "bottom": null,
            "display": null,
            "flex": null,
            "flex_flow": null,
            "grid_area": null,
            "grid_auto_columns": null,
            "grid_auto_flow": null,
            "grid_auto_rows": null,
            "grid_column": null,
            "grid_gap": null,
            "grid_row": null,
            "grid_template_areas": null,
            "grid_template_columns": null,
            "grid_template_rows": null,
            "height": null,
            "justify_content": null,
            "justify_items": null,
            "left": null,
            "margin": null,
            "max_height": null,
            "max_width": null,
            "min_height": null,
            "min_width": null,
            "object_fit": null,
            "object_position": null,
            "order": null,
            "overflow": null,
            "overflow_x": null,
            "overflow_y": null,
            "padding": null,
            "right": null,
            "top": null,
            "visibility": null,
            "width": null
          }
        },
        "84d79ca701394dbf812ae6bcaf21c5a1": {
          "model_module": "@jupyter-widgets/controls",
          "model_name": "DescriptionStyleModel",
          "model_module_version": "1.5.0",
          "state": {
            "_model_module": "@jupyter-widgets/controls",
            "_model_module_version": "1.5.0",
            "_model_name": "DescriptionStyleModel",
            "_view_count": null,
            "_view_module": "@jupyter-widgets/base",
            "_view_module_version": "1.2.0",
            "_view_name": "StyleView",
            "description_width": ""
          }
        },
        "230842b57d98426ca97eb10355a3334f": {
          "model_module": "@jupyter-widgets/base",
          "model_name": "LayoutModel",
          "model_module_version": "1.2.0",
          "state": {
            "_model_module": "@jupyter-widgets/base",
            "_model_module_version": "1.2.0",
            "_model_name": "LayoutModel",
            "_view_count": null,
            "_view_module": "@jupyter-widgets/base",
            "_view_module_version": "1.2.0",
            "_view_name": "LayoutView",
            "align_content": null,
            "align_items": null,
            "align_self": null,
            "border": null,
            "bottom": null,
            "display": null,
            "flex": null,
            "flex_flow": null,
            "grid_area": null,
            "grid_auto_columns": null,
            "grid_auto_flow": null,
            "grid_auto_rows": null,
            "grid_column": null,
            "grid_gap": null,
            "grid_row": null,
            "grid_template_areas": null,
            "grid_template_columns": null,
            "grid_template_rows": null,
            "height": null,
            "justify_content": null,
            "justify_items": null,
            "left": null,
            "margin": null,
            "max_height": null,
            "max_width": null,
            "min_height": null,
            "min_width": null,
            "object_fit": null,
            "object_position": null,
            "order": null,
            "overflow": null,
            "overflow_x": null,
            "overflow_y": null,
            "padding": null,
            "right": null,
            "top": null,
            "visibility": null,
            "width": null
          }
        },
        "381f9ffb96784b3c9d5a338a7ff5667e": {
          "model_module": "@jupyter-widgets/controls",
          "model_name": "ProgressStyleModel",
          "model_module_version": "1.5.0",
          "state": {
            "_model_module": "@jupyter-widgets/controls",
            "_model_module_version": "1.5.0",
            "_model_name": "ProgressStyleModel",
            "_view_count": null,
            "_view_module": "@jupyter-widgets/base",
            "_view_module_version": "1.2.0",
            "_view_name": "StyleView",
            "bar_color": null,
            "description_width": ""
          }
        },
        "f161425a45944b45aa76604d409f2e7e": {
          "model_module": "@jupyter-widgets/base",
          "model_name": "LayoutModel",
          "model_module_version": "1.2.0",
          "state": {
            "_model_module": "@jupyter-widgets/base",
            "_model_module_version": "1.2.0",
            "_model_name": "LayoutModel",
            "_view_count": null,
            "_view_module": "@jupyter-widgets/base",
            "_view_module_version": "1.2.0",
            "_view_name": "LayoutView",
            "align_content": null,
            "align_items": null,
            "align_self": null,
            "border": null,
            "bottom": null,
            "display": null,
            "flex": null,
            "flex_flow": null,
            "grid_area": null,
            "grid_auto_columns": null,
            "grid_auto_flow": null,
            "grid_auto_rows": null,
            "grid_column": null,
            "grid_gap": null,
            "grid_row": null,
            "grid_template_areas": null,
            "grid_template_columns": null,
            "grid_template_rows": null,
            "height": null,
            "justify_content": null,
            "justify_items": null,
            "left": null,
            "margin": null,
            "max_height": null,
            "max_width": null,
            "min_height": null,
            "min_width": null,
            "object_fit": null,
            "object_position": null,
            "order": null,
            "overflow": null,
            "overflow_x": null,
            "overflow_y": null,
            "padding": null,
            "right": null,
            "top": null,
            "visibility": null,
            "width": null
          }
        },
        "d6f0a7d00ec541f18ffb3aeed498d1d7": {
          "model_module": "@jupyter-widgets/controls",
          "model_name": "DescriptionStyleModel",
          "model_module_version": "1.5.0",
          "state": {
            "_model_module": "@jupyter-widgets/controls",
            "_model_module_version": "1.5.0",
            "_model_name": "DescriptionStyleModel",
            "_view_count": null,
            "_view_module": "@jupyter-widgets/base",
            "_view_module_version": "1.2.0",
            "_view_name": "StyleView",
            "description_width": ""
          }
        },
        "29de31fc1d7e485491d71a2081c11b3c": {
          "model_module": "@jupyter-widgets/controls",
          "model_name": "HBoxModel",
          "model_module_version": "1.5.0",
          "state": {
            "_dom_classes": [],
            "_model_module": "@jupyter-widgets/controls",
            "_model_module_version": "1.5.0",
            "_model_name": "HBoxModel",
            "_view_count": null,
            "_view_module": "@jupyter-widgets/controls",
            "_view_module_version": "1.5.0",
            "_view_name": "HBoxView",
            "box_style": "",
            "children": [
              "IPY_MODEL_bcb9e99ef9f84a20b5235f54a238ad1c",
              "IPY_MODEL_1da6d14346be43eea30a5269c3bbf04f",
              "IPY_MODEL_180cecd81e2e41fd885eaad333679842"
            ],
            "layout": "IPY_MODEL_67ba1674af3644a7808750633df74515"
          }
        },
        "bcb9e99ef9f84a20b5235f54a238ad1c": {
          "model_module": "@jupyter-widgets/controls",
          "model_name": "HTMLModel",
          "model_module_version": "1.5.0",
          "state": {
            "_dom_classes": [],
            "_model_module": "@jupyter-widgets/controls",
            "_model_module_version": "1.5.0",
            "_model_name": "HTMLModel",
            "_view_count": null,
            "_view_module": "@jupyter-widgets/controls",
            "_view_module_version": "1.5.0",
            "_view_name": "HTMLView",
            "description": "",
            "description_tooltip": null,
            "layout": "IPY_MODEL_da52f6d2f2964f29b3737a73c2bb55c0",
            "placeholder": "​",
            "style": "IPY_MODEL_d4c7ad97f84642168faae11a47d30c44",
            "value": "Downloading (…)cial_tokens_map.json: 100%"
          }
        },
        "1da6d14346be43eea30a5269c3bbf04f": {
          "model_module": "@jupyter-widgets/controls",
          "model_name": "FloatProgressModel",
          "model_module_version": "1.5.0",
          "state": {
            "_dom_classes": [],
            "_model_module": "@jupyter-widgets/controls",
            "_model_module_version": "1.5.0",
            "_model_name": "FloatProgressModel",
            "_view_count": null,
            "_view_module": "@jupyter-widgets/controls",
            "_view_module_version": "1.5.0",
            "_view_name": "ProgressView",
            "bar_style": "success",
            "description": "",
            "description_tooltip": null,
            "layout": "IPY_MODEL_7cacf840132c4542b85ee0a3913d53a7",
            "max": 112,
            "min": 0,
            "orientation": "horizontal",
            "style": "IPY_MODEL_914792cf040a453d9af41669ab11fdbc",
            "value": 112
          }
        },
        "180cecd81e2e41fd885eaad333679842": {
          "model_module": "@jupyter-widgets/controls",
          "model_name": "HTMLModel",
          "model_module_version": "1.5.0",
          "state": {
            "_dom_classes": [],
            "_model_module": "@jupyter-widgets/controls",
            "_model_module_version": "1.5.0",
            "_model_name": "HTMLModel",
            "_view_count": null,
            "_view_module": "@jupyter-widgets/controls",
            "_view_module_version": "1.5.0",
            "_view_name": "HTMLView",
            "description": "",
            "description_tooltip": null,
            "layout": "IPY_MODEL_91e9f45e303946b196fa3451e07d55ea",
            "placeholder": "​",
            "style": "IPY_MODEL_cfc1d2a093b04c5a947f1dcb6a1ebcc4",
            "value": " 112/112 [00:00&lt;00:00, 5.43kB/s]"
          }
        },
        "67ba1674af3644a7808750633df74515": {
          "model_module": "@jupyter-widgets/base",
          "model_name": "LayoutModel",
          "model_module_version": "1.2.0",
          "state": {
            "_model_module": "@jupyter-widgets/base",
            "_model_module_version": "1.2.0",
            "_model_name": "LayoutModel",
            "_view_count": null,
            "_view_module": "@jupyter-widgets/base",
            "_view_module_version": "1.2.0",
            "_view_name": "LayoutView",
            "align_content": null,
            "align_items": null,
            "align_self": null,
            "border": null,
            "bottom": null,
            "display": null,
            "flex": null,
            "flex_flow": null,
            "grid_area": null,
            "grid_auto_columns": null,
            "grid_auto_flow": null,
            "grid_auto_rows": null,
            "grid_column": null,
            "grid_gap": null,
            "grid_row": null,
            "grid_template_areas": null,
            "grid_template_columns": null,
            "grid_template_rows": null,
            "height": null,
            "justify_content": null,
            "justify_items": null,
            "left": null,
            "margin": null,
            "max_height": null,
            "max_width": null,
            "min_height": null,
            "min_width": null,
            "object_fit": null,
            "object_position": null,
            "order": null,
            "overflow": null,
            "overflow_x": null,
            "overflow_y": null,
            "padding": null,
            "right": null,
            "top": null,
            "visibility": null,
            "width": null
          }
        },
        "da52f6d2f2964f29b3737a73c2bb55c0": {
          "model_module": "@jupyter-widgets/base",
          "model_name": "LayoutModel",
          "model_module_version": "1.2.0",
          "state": {
            "_model_module": "@jupyter-widgets/base",
            "_model_module_version": "1.2.0",
            "_model_name": "LayoutModel",
            "_view_count": null,
            "_view_module": "@jupyter-widgets/base",
            "_view_module_version": "1.2.0",
            "_view_name": "LayoutView",
            "align_content": null,
            "align_items": null,
            "align_self": null,
            "border": null,
            "bottom": null,
            "display": null,
            "flex": null,
            "flex_flow": null,
            "grid_area": null,
            "grid_auto_columns": null,
            "grid_auto_flow": null,
            "grid_auto_rows": null,
            "grid_column": null,
            "grid_gap": null,
            "grid_row": null,
            "grid_template_areas": null,
            "grid_template_columns": null,
            "grid_template_rows": null,
            "height": null,
            "justify_content": null,
            "justify_items": null,
            "left": null,
            "margin": null,
            "max_height": null,
            "max_width": null,
            "min_height": null,
            "min_width": null,
            "object_fit": null,
            "object_position": null,
            "order": null,
            "overflow": null,
            "overflow_x": null,
            "overflow_y": null,
            "padding": null,
            "right": null,
            "top": null,
            "visibility": null,
            "width": null
          }
        },
        "d4c7ad97f84642168faae11a47d30c44": {
          "model_module": "@jupyter-widgets/controls",
          "model_name": "DescriptionStyleModel",
          "model_module_version": "1.5.0",
          "state": {
            "_model_module": "@jupyter-widgets/controls",
            "_model_module_version": "1.5.0",
            "_model_name": "DescriptionStyleModel",
            "_view_count": null,
            "_view_module": "@jupyter-widgets/base",
            "_view_module_version": "1.2.0",
            "_view_name": "StyleView",
            "description_width": ""
          }
        },
        "7cacf840132c4542b85ee0a3913d53a7": {
          "model_module": "@jupyter-widgets/base",
          "model_name": "LayoutModel",
          "model_module_version": "1.2.0",
          "state": {
            "_model_module": "@jupyter-widgets/base",
            "_model_module_version": "1.2.0",
            "_model_name": "LayoutModel",
            "_view_count": null,
            "_view_module": "@jupyter-widgets/base",
            "_view_module_version": "1.2.0",
            "_view_name": "LayoutView",
            "align_content": null,
            "align_items": null,
            "align_self": null,
            "border": null,
            "bottom": null,
            "display": null,
            "flex": null,
            "flex_flow": null,
            "grid_area": null,
            "grid_auto_columns": null,
            "grid_auto_flow": null,
            "grid_auto_rows": null,
            "grid_column": null,
            "grid_gap": null,
            "grid_row": null,
            "grid_template_areas": null,
            "grid_template_columns": null,
            "grid_template_rows": null,
            "height": null,
            "justify_content": null,
            "justify_items": null,
            "left": null,
            "margin": null,
            "max_height": null,
            "max_width": null,
            "min_height": null,
            "min_width": null,
            "object_fit": null,
            "object_position": null,
            "order": null,
            "overflow": null,
            "overflow_x": null,
            "overflow_y": null,
            "padding": null,
            "right": null,
            "top": null,
            "visibility": null,
            "width": null
          }
        },
        "914792cf040a453d9af41669ab11fdbc": {
          "model_module": "@jupyter-widgets/controls",
          "model_name": "ProgressStyleModel",
          "model_module_version": "1.5.0",
          "state": {
            "_model_module": "@jupyter-widgets/controls",
            "_model_module_version": "1.5.0",
            "_model_name": "ProgressStyleModel",
            "_view_count": null,
            "_view_module": "@jupyter-widgets/base",
            "_view_module_version": "1.2.0",
            "_view_name": "StyleView",
            "bar_color": null,
            "description_width": ""
          }
        },
        "91e9f45e303946b196fa3451e07d55ea": {
          "model_module": "@jupyter-widgets/base",
          "model_name": "LayoutModel",
          "model_module_version": "1.2.0",
          "state": {
            "_model_module": "@jupyter-widgets/base",
            "_model_module_version": "1.2.0",
            "_model_name": "LayoutModel",
            "_view_count": null,
            "_view_module": "@jupyter-widgets/base",
            "_view_module_version": "1.2.0",
            "_view_name": "LayoutView",
            "align_content": null,
            "align_items": null,
            "align_self": null,
            "border": null,
            "bottom": null,
            "display": null,
            "flex": null,
            "flex_flow": null,
            "grid_area": null,
            "grid_auto_columns": null,
            "grid_auto_flow": null,
            "grid_auto_rows": null,
            "grid_column": null,
            "grid_gap": null,
            "grid_row": null,
            "grid_template_areas": null,
            "grid_template_columns": null,
            "grid_template_rows": null,
            "height": null,
            "justify_content": null,
            "justify_items": null,
            "left": null,
            "margin": null,
            "max_height": null,
            "max_width": null,
            "min_height": null,
            "min_width": null,
            "object_fit": null,
            "object_position": null,
            "order": null,
            "overflow": null,
            "overflow_x": null,
            "overflow_y": null,
            "padding": null,
            "right": null,
            "top": null,
            "visibility": null,
            "width": null
          }
        },
        "cfc1d2a093b04c5a947f1dcb6a1ebcc4": {
          "model_module": "@jupyter-widgets/controls",
          "model_name": "DescriptionStyleModel",
          "model_module_version": "1.5.0",
          "state": {
            "_model_module": "@jupyter-widgets/controls",
            "_model_module_version": "1.5.0",
            "_model_name": "DescriptionStyleModel",
            "_view_count": null,
            "_view_module": "@jupyter-widgets/base",
            "_view_module_version": "1.2.0",
            "_view_name": "StyleView",
            "description_width": ""
          }
        }
      }
    }
  },
  "nbformat": 4,
  "nbformat_minor": 0
}